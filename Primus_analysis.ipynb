{
 "cells": [
  {
   "cell_type": "markdown",
   "id": "5fb085f4-46c1-4e1f-af14-7397dfba0bff",
   "metadata": {},
   "source": [
    "# Paleo-Detector Analysis Pipeline\n",
    "\n",
    "This notebook provides a complete, end-to-end workflow for the phenomenological analysis of paleo-detectors. It is designed to calculate the expected nuclear recoil track spectra from both external cosmic ray muon signals and various internal/atmospheric backgrounds.\n",
    "\n",
    "The pipeline is built around the *mineral_utils.py* module, which contains the *Paleodetector* class. This class acts as the physics engine, handling all low-level data processing and calculations. The notebook serves as a high-level interface to configure and orchestrate the analysis.\n",
    "\n",
    "### Workflow Overview:\n",
    "\n",
    "**1. Configuration:** All analysis parameters are defined in the configuration cells. This includes selecting the mineral from a library, defining the geological history of the sample (age, exposure time, deposition rate), and setting up the astrophysical scenarios for the cosmic ray flux.\n",
    "\n",
    "**2. Initialization:** A Paleodetector object is created. This object automatically loads and caches all necessary input data, such as SRIM tables for ion ranges and pre-computed Geant4 results for muon interactions.\n",
    "\n",
    "**3. Background Calculation:** The notebook calculates the track spectra for the primary background sources:\n",
    "\n",
    "- Spontaneous Fission: Tracks from the spontaneous fission of Uranium-238 impurities within the mineral.\n",
    "\n",
    "- Radiogenic Neutrons: Tracks from neutrons produced by (α,n) reactions in the surrounding rock.\n",
    "\n",
    "- Neutrinos: Tracks from coherent elastic neutrino-nucleus scattering.\n",
    "\n",
    "**7. Signal Calculation:** For each defined astrophysical scenario, the notebook calculates the track spectrum from cosmic ray muons. This core step includes a sophisticated model for a time-variant cosmic ray flux and the continuous deposition of overburden, which attenuates the signal over the exposure window. The time integration is performed in parallel for efficiency.\n",
    "\n",
    "**8. Analysis & Plotting:** The final signal and background components are combined to produce the summary plots, showing the total expected number of tracks as a function of track length.\n"
   ]
  },
  {
   "cell_type": "code",
   "execution_count": null,
   "id": "721410a0-920a-4d56-b549-635d58f015de",
   "metadata": {},
   "outputs": [],
   "source": [
    "# --- Core Libraries ---\n",
    "import numpy as np\n",
    "from matplotlib import pyplot as plt\n",
    "\n",
    "# --- Custom Utility Module ---\n",
    "from mineral_utils import Paleodetector\n",
    "\n",
    "print(\"Libraries imported successfully.\")"
   ]
  },
  {
   "cell_type": "code",
   "execution_count": null,
   "id": "33f41b2e-878f-4ec8-90be-161a9f36e280",
   "metadata": {},
   "outputs": [],
   "source": [
    "CONFIG = {\n",
    "    # --- Mineral and File Configuration ---\n",
    "    \"mineral_name\": \"Olivine\",  # Must match a key in MINERAL_LIBRARY below\n",
    "    \n",
    "    # --- Geological & Sample Parameters ---\n",
    "    \"sample_mass_kg\": 0.00001,       # Sample mass in kg (e.g., 0.01 for 10g)\n",
    "    \"total_age_myr\" : 0.04,\n",
    "    #\"total_exposure_kyr\": 5900.,         # Total age of the sample in millions of years\n",
    "    #\"exposure_window_kyr\": 600.,  # Duration of CR signal exposure in kyr\n",
    "    \"total_exposure_kyr\": 38.1,         # Total age of the sample in kyr\n",
    "    \"exposure_window_kyr\": 38.,  # Duration of CR signal exposure in kyr\n",
    "\n",
    "\n",
    "    # --- Continuous Deposition Model Parameters ---\n",
    "    \"deposition_rate_m_kyr\": 0., \n",
    "    \"continuous_overburden_density_g_cm3\": 2.16,\n",
    "    #\"event_overburden_density_g_cm3\": 1.,\n",
    "    \"event_overburden_density_g_cm3\": 2.7,\n",
    "    \"event_overburden_depth\": 10.,\n",
    "    \"initial_depth_m\": 0.,\n",
    "\n",
    "    # --- Plotting & Binning Configuration ---\n",
    "    \"n_bins\": 60,\n",
    "    \"x_min_log_nm\": 2.5, # Min track length in log10(nm)\n",
    "    \"x_max_log_nm\": 5., # Max track length in log10(nm)\n",
    "\n",
    "    # Parameters derived from Geant4 simulation setup\n",
    "    \"geant4_energy_bins_gev\": [0.01      , 0.01165914, 0.01359356, 0.01584893, 0.0184785 ,\n",
    "        0.02154435, 0.02511886, 0.02928645, 0.03414549, 0.03981072,\n",
    "        0.04641589, 0.05411695, 0.06309573, 0.07356423, 0.08576959,\n",
    "        0.1       , 0.11659144, 0.13593564, 0.15848932, 0.18478498,\n",
    "        0.21544347, 0.25118864, 0.29286446, 0.34145489, 0.39810717,\n",
    "        0.46415888, 0.54116953, 0.63095734, 0.73564225, 0.8576959 ,\n",
    "        1.0000, 1.1909, 1.4183, 1.6891, 2.0116, 2.3956, 2.8530, 3.3977,\n",
    "        4.0464, 4.8189, 5.7390, 6.8347, 8.1396, 9.6936, 11.5443, 13.7484, \n",
    "        16.3732, 19.4993, 23.2221, 27.6557, 32.9358, 39.2240, 46.7127, \n",
    "        55.6312, 66.2524, 78.9015, 93.9656, 111.9057, 133.2710, 158.7153, \n",
    "        189.0176, 225.1053, 268.0829, 319.2659, 380.2209, 452.8135, 539.2657, \n",
    "        642.2235, 764.8383, 910.8629, 1084.7669, 1291.8731, 1538.5204, 1832.2582, \n",
    "        2182.0771, 2598.6842, 3094.8308, 3685.7029, 4389.3856, 5227.4170, \n",
    "        6225.4472, 7414.0236, 8829.5257, 10515.2787, 12522.8794, 14913.7758, \n",
    "        17761.1475, 21152.1459, 25190.5612, 30000.0000, 100000],\n",
    "\n",
    "    \"mineral_target_thickness_cm\": 1000, # Thickness of the target in the Geant4 simulation in cm\n",
    "    \"total_simulated_muons\": 3e4,        # Number of muons simulated in each Geant4 run, for weighting\n",
    "}"
   ]
  },
  {
   "cell_type": "code",
   "execution_count": null,
   "id": "d0aefb77",
   "metadata": {},
   "outputs": [],
   "source": [
    "scenario_config_simple = {\n",
    "    'name': 'simple',\n",
    "    'event_fluxes': {\n",
    "        0.: ('H3a', 'H3a'),\n",
    "    }\n",
    "}"
   ]
  },
  {
   "cell_type": "code",
   "execution_count": null,
   "id": "fe552d37-d626-4b56-975f-a1812d71c0e2",
   "metadata": {},
   "outputs": [],
   "source": [
    "# --- Mineral Library ---\n",
    "# To analyze a new mineral, add its properties here and ensure the\n",
    "# corresponding SRIM and Geant4 data files exist in the Data/ directory.\n",
    "MINERAL_LIBRARY = {\n",
    "    \"Halite\": {\n",
    "        \"name\": \"Halite\",\n",
    "        \"shortname\": \"Hal\",\n",
    "        \"composition\": \"Na-Cl\",\n",
    "        \"nuclei\": [\"Na\", \"Cl\"],\n",
    "        \"stoich\": [1, 1],\n",
    "        \"uranium_concentration_g_g\": 1e-9,\n",
    "        \"density_g_cm3\": 2.16,\n",
    "    },\n",
    "    \"Olivine\": {\n",
    "        \"name\": \"Olivine\",\n",
    "        \"shortname\": \"Oli\",\n",
    "        \"composition\": \"Mg-Fe-Si- O\",\n",
    "        \"nuclei\": [\"Mg\", \"Fe\", \"Si\", \"O\"],\n",
    "        \"stoich\": [1.8, 0.2, 1, 4],\n",
    "        \"uranium_concentration_g_g\": 1e-7,\n",
    "        \"density_g_cm3\": 3.8,\n",
    "    },\n",
    "    \"Quartz\": {\n",
    "        \"name\": \"Quartz\",\n",
    "        \"shortname\": \"Qz\",\n",
    "        \"composition\": \"Si- O\",\n",
    "        \"nuclei\": [\"Si\", \"O\"],\n",
    "        \"stoich\": [1, 2],\n",
    "        \"uranium_concentration_g_g\": 1e-5,\n",
    "        \"density_g_cm3\": 2.6,\n",
    "    },\n",
    "    \"Spinel\": {\n",
    "        \"name\": \"Spinel\",\n",
    "        \"shortname\": \"Spi\",\n",
    "        \"composition\": \"Mg-Al- O\",\n",
    "        \"nuclei\": [\"Mg\", \"Al\", \"O\"],\n",
    "        \"stoich\": [1, 2, 4],\n",
    "        \"uranium_concentration_g_g\": 1e-7,\n",
    "        \"density_g_cm3\": 3.7,\n",
    "    }\n",
    "}"
   ]
  },
  {
   "cell_type": "code",
   "execution_count": null,
   "id": "aed6e389",
   "metadata": {},
   "outputs": [],
   "source": [
    "x_bins = np.logspace(CONFIG[\"x_min_log_nm\"], CONFIG[\"x_max_log_nm\"], CONFIG[\"n_bins\"])\n",
    "x_mids = x_bins[:-1] + np.diff(x_bins) / 2"
   ]
  },
  {
   "cell_type": "code",
   "execution_count": null,
   "id": "8bce0ee2-6da1-4a3c-99d2-859f42a804c8",
   "metadata": {},
   "outputs": [],
   "source": [
    "# --- Setup & Verification ---\n",
    "mineral_config = MINERAL_LIBRARY.get(CONFIG[\"mineral_name\"])\n",
    "if not mineral_config:\n",
    "    raise ValueError(f\"Mineral '{CONFIG['mineral_name']}' not found in MINERAL_LIBRARY.\")\n",
    "\n",
    "mineral = Paleodetector(mineral_config)"
   ]
  },
  {
   "cell_type": "markdown",
   "id": "a063d074",
   "metadata": {},
   "source": [
    "## Calculation of Track Spectra\n",
    "\n",
    "With the Paleodetector object initialized and all necessary data loaded, we can now proceed with the core physics calculations. The following cells will compute the differential track rate (dR/dx) for each relevant physical process and then integrate these rates over the sample's lifetime to find the total expected number of tracks in each track length bin.\n",
    "\n",
    "### Calculation Steps:\n",
    "\n",
    "**1. Backgrounds:** We first calculate the spectra for the steady-state backgrounds that accumulate over the entire geological age of the sample. These include spontaneous fission, radiogenic neutrons, and atmospheric neutrinos.\n",
    "\n",
    "**2. Muon Signal:** Next, we compute the primary signal from cosmic ray muons. The integrate_muon_signal_spectrum_parallel function is used for this. It performs a numerical integration over the specified exposure_window_kyr, accounting for two key time-dependent effects at each step:\n",
    "\n",
    "- The evolution of the cosmic ray flux, which is interpolated from the files defined in the scenario_config.\n",
    "\n",
    "- The increase in shielding due to the continuous deposition_rate_m_kyr.\n",
    "\n",
    "**3. Final Plot:** Finally, all calculated track components (signals and backgrounds) are summed and plotted to visualize the expected final track spectrum in the detector."
   ]
  },
  {
   "cell_type": "code",
   "execution_count": null,
   "id": "b1511c56",
   "metadata": {},
   "outputs": [],
   "source": [
    "total_nu_tracks = mineral.integrate_nu_spectrum(x_bins, CONFIG['total_age_myr'], CONFIG['sample_mass_kg'], flux_name=\"all\")"
   ]
  },
  {
   "cell_type": "code",
   "execution_count": null,
   "id": "a53bc449-3ea0-4759-b30f-4b592e5a5c25",
   "metadata": {},
   "outputs": [],
   "source": [
    "total_fission_tracks = mineral.integrate_fission_spectrum(x_bins, CONFIG['total_age_myr'], CONFIG['sample_mass_kg'])"
   ]
  },
  {
   "cell_type": "code",
   "execution_count": null,
   "id": "51f7bd24",
   "metadata": {},
   "outputs": [],
   "source": [
    "total_neutron_tracks = mineral.integrate_neutron_spectrum(x_bins, CONFIG['total_age_myr'], CONFIG['sample_mass_kg'])"
   ]
  },
  {
   "cell_type": "code",
   "execution_count": null,
   "id": "cb12c62b",
   "metadata": {},
   "outputs": [],
   "source": [
    "montcineyre = mineral.integrate_muon_signal_spectrum_parallel(\n",
    "    x_bins=x_bins,\n",
    "    scenario_config=scenario_config_simple,\n",
    "    energy_bins_gev=CONFIG[\"geant4_energy_bins_gev\"],\n",
    "    exposure_window_kyr=7.1,\n",
    "    sample_mass_kg=CONFIG[\"sample_mass_kg\"],\n",
    "    nsteps=10,\n",
    ")"
   ]
  },
  {
   "cell_type": "code",
   "execution_count": null,
   "id": "b71f7495",
   "metadata": {},
   "outputs": [],
   "source": [
    "lavache = mineral.integrate_muon_signal_spectrum_parallel(\n",
    "    x_bins=x_bins,\n",
    "    scenario_config=scenario_config_simple,\n",
    "    energy_bins_gev=CONFIG[\"geant4_energy_bins_gev\"],\n",
    "    exposure_window_kyr=8.6,\n",
    "    sample_mass_kg=CONFIG[\"sample_mass_kg\"],\n",
    "    nsteps=10,\n",
    ")"
   ]
  },
  {
   "cell_type": "code",
   "execution_count": null,
   "id": "b870a704",
   "metadata": {},
   "outputs": [],
   "source": [
    "pariou = mineral.integrate_muon_signal_spectrum_parallel(\n",
    "    x_bins=x_bins,\n",
    "    scenario_config=scenario_config_simple,\n",
    "    energy_bins_gev=CONFIG[\"geant4_energy_bins_gev\"],\n",
    "    exposure_window_kyr=9.9,\n",
    "    sample_mass_kg=CONFIG[\"sample_mass_kg\"],\n",
    "    nsteps=10,\n",
    ")"
   ]
  },
  {
   "cell_type": "code",
   "execution_count": null,
   "id": "b6d4c6bb",
   "metadata": {},
   "outputs": [],
   "source": [
    "dome = mineral.integrate_muon_signal_spectrum_parallel(\n",
    "    x_bins=x_bins,\n",
    "    scenario_config=scenario_config_simple,\n",
    "    energy_bins_gev=CONFIG[\"geant4_energy_bins_gev\"],\n",
    "    exposure_window_kyr=11.,\n",
    "    sample_mass_kg=CONFIG[\"sample_mass_kg\"],\n",
    "    nsteps=10,\n",
    ")"
   ]
  },
  {
   "cell_type": "code",
   "execution_count": null,
   "id": "e91ca131",
   "metadata": {},
   "outputs": [],
   "source": [
    "come = mineral.integrate_muon_signal_spectrum_parallel(\n",
    "    x_bins=x_bins,\n",
    "    scenario_config=scenario_config_simple,\n",
    "    energy_bins_gev=CONFIG[\"geant4_energy_bins_gev\"],\n",
    "    exposure_window_kyr=13.7,\n",
    "    sample_mass_kg=CONFIG[\"sample_mass_kg\"],\n",
    "    nsteps=10,\n",
    ")"
   ]
  },
  {
   "cell_type": "code",
   "execution_count": null,
   "id": "1cc213bc",
   "metadata": {},
   "outputs": [],
   "source": [
    "lemptegy = mineral.integrate_muon_signal_spectrum_parallel(\n",
    "    x_bins=x_bins,\n",
    "    scenario_config=scenario_config_simple,\n",
    "    energy_bins_gev=CONFIG[\"geant4_energy_bins_gev\"],\n",
    "    exposure_window_kyr=30.,\n",
    "    sample_mass_kg=CONFIG[\"sample_mass_kg\"],\n",
    "    nsteps=10,\n",
    ")"
   ]
  },
  {
   "cell_type": "code",
   "execution_count": null,
   "id": "996fee41",
   "metadata": {},
   "outputs": [],
   "source": [
    "laschamp = mineral.integrate_muon_signal_spectrum_parallel(\n",
    "    x_bins=x_bins,\n",
    "    scenario_config=scenario_config_simple,\n",
    "    energy_bins_gev=CONFIG[\"geant4_energy_bins_gev\"],\n",
    "    exposure_window_kyr=40.,\n",
    "    sample_mass_kg=CONFIG[\"sample_mass_kg\"],\n",
    "    nsteps=10,\n",
    ")"
   ]
  },
  {
   "cell_type": "code",
   "execution_count": null,
   "id": "8f4eb47f",
   "metadata": {},
   "outputs": [],
   "source": [
    "post_scenario = mineral.integrate_muon_signal_spectrum_parallel(\n",
    "    x_bins=x_bins,\n",
    "    scenario_config=scenario_config_simple,\n",
    "    energy_bins_gev=CONFIG[\"geant4_energy_bins_gev\"],\n",
    "    #exposure_window_kyr=CONFIG[\"total_exposure_kyr\"] - CONFIG[\"exposure_window_kyr\"],\n",
    "    exposure_window_kyr=0.005,\n",
    "    sample_mass_kg=CONFIG[\"sample_mass_kg\"],\n",
    "    #initial_depth=CONFIG[\"event_overburden_depth\"] * CONFIG[\"event_overburden_density_g_cm3\"] + CONFIG[\"deposition_rate_m_kyr\"] * CONFIG[\"exposure_window_kyr\"] * CONFIG[\"continuous_overburden_density_g_cm3\"],\n",
    "    nsteps=10,\n",
    ")"
   ]
  },
  {
   "cell_type": "code",
   "execution_count": null,
   "id": "8468dcbf",
   "metadata": {},
   "outputs": [],
   "source": [
    "total_muon_tracks = {\n",
    "    \"Montcineyre\": montcineyre,\n",
    "    \"Lavache\": lavache,\n",
    "    \"Pariou\": pariou,\n",
    "    \"Dome\": dome,\n",
    "    \"Come\": come,\n",
    "    \"Lemptegy\": lemptegy,\n",
    "    \"Laschamp\": laschamp,\n",
    "    \"Modern\": post_scenario\n",
    "}"
   ]
  },
  {
   "cell_type": "code",
   "execution_count": null,
   "id": "9a4ed60e-1842-400a-9f82-a9f5f1d7ec62",
   "metadata": {
    "scrolled": true
   },
   "outputs": [],
   "source": [
    "fig, ax = plt.subplots(figsize=(10, 6))\n",
    "mineral.plot_tracks(x_bins, muon_tracks=total_muon_tracks, fission_tracks=total_fission_tracks, nu_tracks=total_nu_tracks, neutron_tracks=total_neutron_tracks, ax=ax)\n",
    "ax.set_xscale('linear')\n",
    "#ax.set_yscale('linear')\n",
    "plt.show()"
   ]
  }
 ],
 "metadata": {
  "kernelspec": {
   "display_name": "paleo",
   "language": "python",
   "name": "python3"
  },
  "language_info": {
   "codemirror_mode": {
    "name": "ipython",
    "version": 3
   },
   "file_extension": ".py",
   "mimetype": "text/x-python",
   "name": "python",
   "nbconvert_exporter": "python",
   "pygments_lexer": "ipython3",
   "version": "3.12.11"
  }
 },
 "nbformat": 4,
 "nbformat_minor": 5
}
