{
 "cells": [
  {
   "cell_type": "code",
   "execution_count": 70,
   "metadata": {
    "colab": {
     "base_uri": "https://localhost:8080/"
    },
    "executionInfo": {
     "elapsed": 153711,
     "status": "ok",
     "timestamp": 1751531482506,
     "user": {
      "displayName": "Claudio Galelli",
      "userId": "06065515014824448321"
     },
     "user_tz": -120
    },
    "id": "eVkvX0hQ0YcU",
    "outputId": "5f776038-ef87-4b87-ec5e-d74bb2f58764"
   },
   "outputs": [],
   "source": [
    "import os\n",
    "import glob\n",
    "import cv2\n",
    "import numpy as np\n",
    "import pandas as pd\n",
    "import torch\n",
    "from tqdm.notebook import tqdm\n",
    "import matplotlib.pyplot as plt\n",
    "from collections import defaultdict\n",
    "import re\n",
    "\n",
    "import segmentation_models_pytorch as smp\n",
    "import albumentations as A\n",
    "from albumentations.pytorch import ToTensorV2"
   ]
  },
  {
   "cell_type": "code",
   "execution_count": 71,
   "metadata": {
    "colab": {
     "base_uri": "https://localhost:8080/"
    },
    "executionInfo": {
     "elapsed": 697,
     "status": "ok",
     "timestamp": 1751531483193,
     "user": {
      "displayName": "Claudio Galelli",
      "userId": "06065515014824448321"
     },
     "user_tz": -120
    },
    "id": "qNg_PXq30er1",
    "outputId": "439c36c8-ad6c-406e-b909-fb6d56658817"
   },
   "outputs": [
    {
     "name": "stdout",
     "output_type": "stream",
     "text": [
      "Configuration Loaded:\n",
      "  Image Folder: Data/images/ARCI URAS26F1/tiles\n",
      "  Model Path: Data/segmentation_models/obsidian_a066b033beta20.pth\n",
      "  Output Directory: Data/inference_results\n",
      "  Using Device: cpu\n"
     ]
    }
   ],
   "source": [
    "# Path to the folder containing the images you want to analyze\n",
    "IMAGE_FOLDER_PATH = \"Data/images/\"\n",
    "\n",
    "IMAGE_SPEC = \"ARCI URAS26F1\"\n",
    "\n",
    "SUB_DIR = \"/tiles\"\n",
    "\n",
    "IMAGE_PATH = os.path.join(IMAGE_FOLDER_PATH, IMAGE_SPEC + SUB_DIR)\n",
    "# Path to the trained model file (.pth) saved from the training notebook\n",
    "MODEL_FOLDER_PATH = \"Data/segmentation_models/\"\n",
    "\n",
    "MODEL_SPEC = \"obsidian_a066b033beta20.pth\"\n",
    "\n",
    "MODEL_PATH = os.path.join(MODEL_FOLDER_PATH, MODEL_SPEC)\n",
    "\n",
    "# Path to the directory where results  will be saved\n",
    "OUTPUT_PATH = \"Data/inference_results\"\n",
    "\n",
    "# ---  MODEL PARAMETERS (These MUST match the model you are loading) ---\n",
    "MODEL_ARC = \"Unet\"\n",
    "ENCODER = \"resnet34\"\n",
    "ENCODER_WEIGHTS = \"imagenet\"\n",
    "\n",
    "# --- 3. PREPROCESSING PARAMETERS (These MUST match how the model was trained) ---\n",
    "# Image dimensions the model was trained on\n",
    "IMG_HEIGHT = 1024\n",
    "IMG_WIDTH = 1024\n",
    "# Number of channels in the *source* images (1 for grayscale, 3 for color).\n",
    "INPUT_CHANNELS_CONFIG = 3\n",
    "\n",
    "# --- 4. INFERENCE PARAMETERS ---\n",
    "# Probability threshold to convert model output to a binary mask\n",
    "PREDICTION_THRESHOLD = 0.66\n",
    "# Set to None if unknown.\n",
    "PIXEL_RESOLUTION_UM_PER_PX = 0.345\n",
    "\n",
    "DEVICE = \"cuda\" if torch.cuda.is_available() else \"cpu\"\n",
    "os.makedirs(OUTPUT_PATH, exist_ok=True)\n",
    "\n",
    "if not os.path.isdir(IMAGE_PATH):\n",
    "    raise FileNotFoundError(f\"ERROR: Image folder not found at '{IMAGE_PATH}'\")\n",
    "if not os.path.exists(MODEL_PATH):\n",
    "    raise FileNotFoundError(f\"ERROR: Model file not found at '{MODEL_PATH}'\")\n",
    "\n",
    "print(f\"Configuration Loaded:\")\n",
    "print(f\"  Image Folder: {IMAGE_PATH}\")\n",
    "print(f\"  Model Path: {MODEL_PATH}\")\n",
    "print(f\"  Output Directory: {OUTPUT_PATH}\")\n",
    "print(f\"  Using Device: {DEVICE}\")"
   ]
  },
  {
   "cell_type": "code",
   "execution_count": 72,
   "metadata": {
    "executionInfo": {
     "elapsed": 43,
     "status": "ok",
     "timestamp": 1751531483252,
     "user": {
      "displayName": "Claudio Galelli",
      "userId": "06065515014824448321"
     },
     "user_tz": -120
    },
    "id": "VUoJUmHb0mqz"
   },
   "outputs": [],
   "source": [
    "def get_preprocessing(preprocessing_fn):\n",
    "    \"\"\"Combines model-specific normalization with tensor conversion.\"\"\"\n",
    "    _transform = [\n",
    "        A.Lambda(image=preprocessing_fn),\n",
    "        ToTensorV2(),\n",
    "    ]\n",
    "    return A.Compose(_transform)"
   ]
  },
  {
   "cell_type": "code",
   "execution_count": 73,
   "metadata": {
    "colab": {
     "base_uri": "https://localhost:8080/",
     "height": 225,
     "referenced_widgets": [
      "c0cc94574bc44acf91280adabdfae085",
      "c23a9f66d68a41a28d1fcaee6e8baf7f",
      "fcd950f2a5464b5092117e01c839a118",
      "e13a8e6f94cc49b4a061ce3e0b4a5952",
      "9908b8d198a44a809db7d44240af57d7",
      "3a3e3a9386bd42edbf95b56cd180ac39",
      "f3bd213cbdaa4363a44a3fe8acd2a008",
      "42ed84645b494c939b264233f480776a",
      "c331c692b29c49db9f8f32c01030ff0e",
      "14c60120f92242fba7efec769301e649",
      "ee127e37229c4c7386ede884d017759b"
     ]
    },
    "executionInfo": {
     "elapsed": 5813,
     "status": "ok",
     "timestamp": 1751531489061,
     "user": {
      "displayName": "Claudio Galelli",
      "userId": "06065515014824448321"
     },
     "user_tz": -120
    },
    "id": "O8ioMoQV0n-Q",
    "outputId": "5726b8dd-7135-4b4d-ae52-01d36244bacc"
   },
   "outputs": [
    {
     "name": "stdout",
     "output_type": "stream",
     "text": [
      "Loading trained model...\n",
      "Model loaded successfully and set to evaluation mode.\n",
      "Preprocessing function loaded.\n"
     ]
    }
   ],
   "source": [
    "print(\"Loading trained model...\")\n",
    "\n",
    "try:\n",
    "    # Instantiate the model with the same architecture as during training\n",
    "    inference_model = smp.create_model(\n",
    "        arch=MODEL_ARC,\n",
    "        encoder_name=ENCODER,\n",
    "        encoder_weights=None,\n",
    "        in_channels=INPUT_CHANNELS_CONFIG,\n",
    "        classes=1,\n",
    "        activation=None, \n",
    "    )\n",
    "    inference_model.load_state_dict(torch.load(MODEL_PATH, map_location=DEVICE))\n",
    "    inference_model.to(DEVICE)\n",
    "    inference_model.eval()\n",
    "    print(\"Model loaded successfully and set to evaluation mode.\")\n",
    "except Exception as e:\n",
    "    print(f\"Error creating or loading model: {e}\")\n",
    "    print(\"Please ensure MODEL_ARC and ENCODER parameters in Cell 2 are correct.\")\n",
    "    raise e\n",
    "\n",
    "preprocessing_fn = smp.encoders.get_preprocessing_fn(ENCODER, ENCODER_WEIGHTS)\n",
    "print(\"Preprocessing function loaded.\")"
   ]
  },
  {
   "cell_type": "code",
   "execution_count": 74,
   "metadata": {},
   "outputs": [
    {
     "name": "stdout",
     "output_type": "stream",
     "text": [
      "Found 2112 total images.\n",
      "Grouped into 192 unique locations (Z-stacks). Each should have 11 images.\n"
     ]
    }
   ],
   "source": [
    "image_files = sorted(glob.glob(os.path.join(IMAGE_PATH, '*.png')))\n",
    "\n",
    "file_pattern = re.compile(r'Frame(\\d+)_Acquisition_(\\d+)_(\\d+)_(\\d+).png')\n",
    "\n",
    "image_groups = defaultdict(list)\n",
    "\n",
    "for fpath in image_files:\n",
    "    fname = os.path.basename(fpath)\n",
    "    match = file_pattern.match(fname)\n",
    "    if match:\n",
    "        n, image_id, top, left = match.groups()\n",
    "        group_key = f\"Frame{n}_{top}_{left}\"\n",
    "        image_groups[group_key].append(fpath)\n",
    "\n",
    "print(f\"Found {len(image_files)} total images.\")\n",
    "print(f\"Grouped into {len(image_groups)} unique locations (Z-stacks). Each should have {len(list(image_groups.values())[0])} images.\")"
   ]
  },
  {
   "cell_type": "code",
   "execution_count": 117,
   "metadata": {},
   "outputs": [
    {
     "name": "stdout",
     "output_type": "stream",
     "text": [
      "Starting ellipse fitting...\n"
     ]
    },
    {
     "data": {
      "application/vnd.jupyter.widget-view+json": {
       "model_id": "a77c5b2314b94744b88c17dd64d4e2db",
       "version_major": 2,
       "version_minor": 0
      },
      "text/plain": [
       "Ellipse Analysis:   0%|          | 0/192 [00:00<?, ?it/s]"
      ]
     },
     "metadata": {},
     "output_type": "display_data"
    },
    {
     "name": "stdout",
     "output_type": "stream",
     "text": [
      "\n",
      "--- Ellipse Fitting Results ---\n",
      "Total tracks found across all images: 4110\n",
      "Sample of detected track and ellipse properties:\n"
     ]
    },
    {
     "data": {
      "application/vnd.microsoft.datawrangler.viewer.v0+json": {
       "columns": [
        {
         "name": "index",
         "rawType": "int64",
         "type": "integer"
        },
        {
         "name": "image_filename",
         "rawType": "object",
         "type": "string"
        },
        {
         "name": "track_id",
         "rawType": "int64",
         "type": "integer"
        },
        {
         "name": "area_px_contour",
         "rawType": "float64",
         "type": "float"
        },
        {
         "name": "centroid_x_px_ellipse",
         "rawType": "float64",
         "type": "float"
        },
        {
         "name": "centroid_y_px_ellipse",
         "rawType": "float64",
         "type": "float"
        },
        {
         "name": "major_axis_px",
         "rawType": "float64",
         "type": "float"
        },
        {
         "name": "minor_axis_px",
         "rawType": "float64",
         "type": "float"
        },
        {
         "name": "orientation_deg",
         "rawType": "float64",
         "type": "float"
        },
        {
         "name": "eccentricity",
         "rawType": "float64",
         "type": "float"
        },
        {
         "name": "proj_len_px",
         "rawType": "float64",
         "type": "float"
        },
        {
         "name": "proj_len_px2",
         "rawType": "float64",
         "type": "float"
        },
        {
         "name": "proj_len_um",
         "rawType": "float64",
         "type": "float"
        }
       ],
       "ref": "f2d2caa3-56a1-4c04-b5f2-91e90e2e8175",
       "rows": [
        [
         "0",
         "Frame10_Acquisition_4401_0_0.png",
         "1",
         "35.5",
         "424.0",
         "1019.6",
         "12.45",
         "5.7",
         "87.17",
         "2.18",
         "7.93",
         "12.45",
         "2.74"
        ],
        [
         "1",
         "Frame10_Acquisition_4401_0_0.png",
         "2",
         "52.0",
         "820.3",
         "989.2",
         "9.33",
         "7.82",
         "23.96",
         "1.19",
         "8.47",
         "9.33",
         "2.92"
        ],
        [
         "2",
         "Frame10_Acquisition_4401_0_0.png",
         "3",
         "142.0",
         "800.7",
         "854.1",
         "14.02",
         "13.22",
         "41.95",
         "1.06",
         "13.68",
         "14.02",
         "4.72"
        ],
        [
         "3",
         "Frame10_Acquisition_4401_0_0.png",
         "4",
         "4.0",
         "339.1",
         "729.4",
         "5.57",
         "1.91",
         "57.29",
         "2.91",
         "2.66",
         "5.57",
         "0.92"
        ],
        [
         "4",
         "Frame10_Acquisition_4401_0_0.png",
         "5",
         "54.5",
         "738.5",
         "730.6",
         "9.97",
         "7.7",
         "82.72",
         "1.3",
         "9.01",
         "9.97",
         "3.11"
        ]
       ],
       "shape": {
        "columns": 12,
        "rows": 5
       }
      },
      "text/html": [
       "<div>\n",
       "<style scoped>\n",
       "    .dataframe tbody tr th:only-of-type {\n",
       "        vertical-align: middle;\n",
       "    }\n",
       "\n",
       "    .dataframe tbody tr th {\n",
       "        vertical-align: top;\n",
       "    }\n",
       "\n",
       "    .dataframe thead th {\n",
       "        text-align: right;\n",
       "    }\n",
       "</style>\n",
       "<table border=\"1\" class=\"dataframe\">\n",
       "  <thead>\n",
       "    <tr style=\"text-align: right;\">\n",
       "      <th></th>\n",
       "      <th>image_filename</th>\n",
       "      <th>track_id</th>\n",
       "      <th>area_px_contour</th>\n",
       "      <th>centroid_x_px_ellipse</th>\n",
       "      <th>centroid_y_px_ellipse</th>\n",
       "      <th>major_axis_px</th>\n",
       "      <th>minor_axis_px</th>\n",
       "      <th>orientation_deg</th>\n",
       "      <th>eccentricity</th>\n",
       "      <th>proj_len_px</th>\n",
       "      <th>proj_len_px2</th>\n",
       "      <th>proj_len_um</th>\n",
       "    </tr>\n",
       "  </thead>\n",
       "  <tbody>\n",
       "    <tr>\n",
       "      <th>0</th>\n",
       "      <td>Frame10_Acquisition_4401_0_0.png</td>\n",
       "      <td>1</td>\n",
       "      <td>35.5</td>\n",
       "      <td>424.0</td>\n",
       "      <td>1019.6</td>\n",
       "      <td>12.45</td>\n",
       "      <td>5.70</td>\n",
       "      <td>87.17</td>\n",
       "      <td>2.18</td>\n",
       "      <td>7.93</td>\n",
       "      <td>12.45</td>\n",
       "      <td>2.74</td>\n",
       "    </tr>\n",
       "    <tr>\n",
       "      <th>1</th>\n",
       "      <td>Frame10_Acquisition_4401_0_0.png</td>\n",
       "      <td>2</td>\n",
       "      <td>52.0</td>\n",
       "      <td>820.3</td>\n",
       "      <td>989.2</td>\n",
       "      <td>9.33</td>\n",
       "      <td>7.82</td>\n",
       "      <td>23.96</td>\n",
       "      <td>1.19</td>\n",
       "      <td>8.47</td>\n",
       "      <td>9.33</td>\n",
       "      <td>2.92</td>\n",
       "    </tr>\n",
       "    <tr>\n",
       "      <th>2</th>\n",
       "      <td>Frame10_Acquisition_4401_0_0.png</td>\n",
       "      <td>3</td>\n",
       "      <td>142.0</td>\n",
       "      <td>800.7</td>\n",
       "      <td>854.1</td>\n",
       "      <td>14.02</td>\n",
       "      <td>13.22</td>\n",
       "      <td>41.95</td>\n",
       "      <td>1.06</td>\n",
       "      <td>13.68</td>\n",
       "      <td>14.02</td>\n",
       "      <td>4.72</td>\n",
       "    </tr>\n",
       "    <tr>\n",
       "      <th>3</th>\n",
       "      <td>Frame10_Acquisition_4401_0_0.png</td>\n",
       "      <td>4</td>\n",
       "      <td>4.0</td>\n",
       "      <td>339.1</td>\n",
       "      <td>729.4</td>\n",
       "      <td>5.57</td>\n",
       "      <td>1.91</td>\n",
       "      <td>57.29</td>\n",
       "      <td>2.91</td>\n",
       "      <td>2.66</td>\n",
       "      <td>5.57</td>\n",
       "      <td>0.92</td>\n",
       "    </tr>\n",
       "    <tr>\n",
       "      <th>4</th>\n",
       "      <td>Frame10_Acquisition_4401_0_0.png</td>\n",
       "      <td>5</td>\n",
       "      <td>54.5</td>\n",
       "      <td>738.5</td>\n",
       "      <td>730.6</td>\n",
       "      <td>9.97</td>\n",
       "      <td>7.70</td>\n",
       "      <td>82.72</td>\n",
       "      <td>1.30</td>\n",
       "      <td>9.01</td>\n",
       "      <td>9.97</td>\n",
       "      <td>3.11</td>\n",
       "    </tr>\n",
       "  </tbody>\n",
       "</table>\n",
       "</div>"
      ],
      "text/plain": [
       "                     image_filename  track_id  area_px_contour  \\\n",
       "0  Frame10_Acquisition_4401_0_0.png         1             35.5   \n",
       "1  Frame10_Acquisition_4401_0_0.png         2             52.0   \n",
       "2  Frame10_Acquisition_4401_0_0.png         3            142.0   \n",
       "3  Frame10_Acquisition_4401_0_0.png         4              4.0   \n",
       "4  Frame10_Acquisition_4401_0_0.png         5             54.5   \n",
       "\n",
       "   centroid_x_px_ellipse  centroid_y_px_ellipse  major_axis_px  minor_axis_px  \\\n",
       "0                  424.0                 1019.6          12.45           5.70   \n",
       "1                  820.3                  989.2           9.33           7.82   \n",
       "2                  800.7                  854.1          14.02          13.22   \n",
       "3                  339.1                  729.4           5.57           1.91   \n",
       "4                  738.5                  730.6           9.97           7.70   \n",
       "\n",
       "   orientation_deg  eccentricity  proj_len_px  proj_len_px2  proj_len_um  \n",
       "0            87.17          2.18         7.93         12.45         2.74  \n",
       "1            23.96          1.19         8.47          9.33         2.92  \n",
       "2            41.95          1.06        13.68         14.02         4.72  \n",
       "3            57.29          2.91         2.66          5.57         0.92  \n",
       "4            82.72          1.30         9.01          9.97         3.11  "
      ]
     },
     "execution_count": 117,
     "metadata": {},
     "output_type": "execute_result"
    }
   ],
   "source": [
    "print(\"Starting ellipse fitting...\")\n",
    "\n",
    "ellipse_analysis_results = []\n",
    "\n",
    "preprocessing_fn = smp.encoders.get_preprocessing_fn(ENCODER, ENCODER_WEIGHTS)\n",
    "preprocessing = get_preprocessing(preprocessing_fn)\n",
    "\n",
    "for group_key, file_list in tqdm(image_groups.items(), desc=\"Ellipse Analysis\"):\n",
    "    \n",
    "    group_masks = []\n",
    "    \n",
    "    for image_path in file_list[5:7]:\n",
    "        # Load and preprocess image\n",
    "        image = cv2.imread(image_path)\n",
    "        image = cv2.cvtColor(image, cv2.COLOR_BGR2RGB)\n",
    "        \n",
    "        sample = preprocessing(image=image)\n",
    "        preprocessed_image = sample['image'].unsqueeze(0).to(DEVICE, dtype=torch.float32)\n",
    "        \n",
    "        with torch.no_grad():\n",
    "            pred_output = inference_model(preprocessed_image)\n",
    "            pred_probs = torch.sigmoid(pred_output)\n",
    "            pr_mask = (pred_probs.squeeze().cpu().numpy().round())\n",
    "        \n",
    "        group_masks.append(pr_mask)\n",
    "    \n",
    "    # Aggregate the masks (Logical OR across the Z-stack)\n",
    "    aggregated_mask = np.max(np.stack(group_masks, axis=0), axis=0).astype(np.uint8)\n",
    "    \n",
    "    # --- Ellipse Analysis ---\n",
    "    \n",
    "    # Use cv2.findContours to get the boundary of each track/blob.\n",
    "    # RETR_EXTERNAL: Retrieves only the extreme outer contours.\n",
    "    # CHAIN_APPROX_SIMPLE: Compresses horizontal, vertical, and diagonal segments.\n",
    "    contours, _ = cv2.findContours(aggregated_mask.copy(), cv2.RETR_EXTERNAL, cv2.CHAIN_APPROX_SIMPLE)\n",
    "    \n",
    "    track_id_counter = 1\n",
    "    \n",
    "    for contour in contours:\n",
    "        # Ellipse fitting requires a minimum of 5 points.\n",
    "        if len(contour) < 5:\n",
    "            continue\n",
    "            \n",
    "        # 1. Fit the ellipse to the contour\n",
    "        # The result is: ((center_x, center_y), (minor_axis_len, major_axis_len), orientation_deg)\n",
    "        ellipse = cv2.fitEllipse(contour)\n",
    "        ((center_x, center_y), (axis_a_px, axis_b_px), orientation_deg) = ellipse\n",
    "\n",
    "        # OpenCV returns the two axes in an arbitrary order, so we ensure \n",
    "        # major is the larger value and minor is the smaller value.\n",
    "        major_axis_len_px = max(axis_a_px, axis_b_px)\n",
    "        minor_axis_len_px = min(axis_a_px, axis_b_px)\n",
    "            \n",
    "        # 2. Get the area and centroid from the contour for consistency with new data\n",
    "        area_px_contour = cv2.contourArea(contour)\n",
    "\n",
    "        if minor_axis_len_px == 0:\n",
    "            eccentricity = np.nan  # Avoid division by zero\n",
    "        else:\n",
    "            eccentricity = major_axis_len_px / minor_axis_len_px\n",
    "\n",
    "        projector = np.quantile(np.nan_to_num(eccentricity, nan=0), 0.95)\n",
    "\n",
    "        proj_len_px = (4 * area_px_contour * projector) / (np.pi * major_axis_len_px)\n",
    "        proj_len_px2 = major_axis_len_px * projector / eccentricity\n",
    "        \n",
    "        # 3. Store properties\n",
    "        track_props = {\n",
    "            \"image_filename\": os.path.basename(file_list[0]), \n",
    "            \"track_id\": track_id_counter,\n",
    "            \"area_px_contour\": round(area_px_contour, 1),\n",
    "            # Ellipse properties (in pixels)\n",
    "            \"centroid_x_px_ellipse\": round(center_x, 1), \n",
    "            \"centroid_y_px_ellipse\": round(center_y, 1),\n",
    "            \"major_axis_px\": round(major_axis_len_px, 2),\n",
    "            \"minor_axis_px\": round(minor_axis_len_px, 2),\n",
    "            \"orientation_deg\": round(orientation_deg, 2),\n",
    "            \"eccentricity\": round(eccentricity, 2),\n",
    "            \"proj_len_px\": round(proj_len_px, 2),\n",
    "            \"proj_len_px2\": round(proj_len_px2, 2),\n",
    "        }\n",
    "        \n",
    "        # Convert to physical units if resolution is known (from Cell 2)\n",
    "        if PIXEL_RESOLUTION_UM_PER_PX is not None:\n",
    "            track_props['proj_len_um'] = round(proj_len_px * PIXEL_RESOLUTION_UM_PER_PX, 2)\n",
    "\n",
    "        ellipse_analysis_results.append(track_props)\n",
    "        track_id_counter += 1\n",
    "\n",
    "\n",
    "# 4. Convert results to a DataFrame and display a sample\n",
    "df_ellipse_results = pd.DataFrame(ellipse_analysis_results)\n",
    "\n",
    "print(f\"\\n--- Ellipse Fitting Results ---\\nTotal tracks found across all images: {len(df_ellipse_results)}\")\n",
    "print(\"Sample of detected track and ellipse properties:\")\n",
    "\n",
    "# Display the dataframe with the new columns\n",
    "df_ellipse_results.head()"
   ]
  },
  {
   "cell_type": "code",
   "execution_count": 113,
   "metadata": {},
   "outputs": [
    {
     "data": {
      "text/plain": [
       "<Axes: >"
      ]
     },
     "execution_count": 113,
     "metadata": {},
     "output_type": "execute_result"
    },
    {
     "data": {
      "image/png": "[encoded data removed]",
      "text/plain": [
       "<Figure size 640x480 with 1 Axes>"
      ]
     },
     "metadata": {},
     "output_type": "display_data"
    }
   ],
   "source": [
    "df_ellipse_results['proj_len_px'].hist(bins = np.linspace(0, 50, 100))"
   ]
  },
  {
   "cell_type": "code",
   "execution_count": 114,
   "metadata": {},
   "outputs": [
    {
     "data": {
      "text/plain": [
       "<Axes: >"
      ]
     },
     "execution_count": 114,
     "metadata": {},
     "output_type": "execute_result"
    },
    {
     "data": {
      "image/png": "[encoded data removed]",
      "text/plain": [
       "<Figure size 640x480 with 1 Axes>"
      ]
     },
     "metadata": {},
     "output_type": "display_data"
    }
   ],
   "source": [
    "df_ellipse_results['proj_len_px2'].hist(bins = np.linspace(0, 50, 100))"
   ]
  },
  {
   "cell_type": "code",
   "execution_count": 115,
   "metadata": {},
   "outputs": [
    {
     "data": {
      "text/plain": [
       "<Axes: >"
      ]
     },
     "execution_count": 115,
     "metadata": {},
     "output_type": "execute_result"
    },
    {
     "data": {
      "image/png": "[encoded data removed]",
      "text/plain": [
       "<Figure size 640x480 with 1 Axes>"
      ]
     },
     "metadata": {},
     "output_type": "display_data"
    }
   ],
   "source": [
    "df_ellipse_results['major_axis_px'].hist(bins = np.linspace(0, 50, 100))"
   ]
  },
  {
   "cell_type": "code",
   "execution_count": 116,
   "metadata": {},
   "outputs": [
    {
     "data": {
      "text/plain": [
       "<Axes: >"
      ]
     },
     "execution_count": 116,
     "metadata": {},
     "output_type": "execute_result"
    },
    {
     "data": {
      "image/png": "[encoded data removed]",
      "text/plain": [
       "<Figure size 640x480 with 1 Axes>"
      ]
     },
     "metadata": {},
     "output_type": "display_data"
    }
   ],
   "source": [
    "df_ellipse_results['minor_axis_px'].hist(bins = np.linspace(0, 50, 100))"
   ]
  },
  {
   "cell_type": "code",
   "execution_count": 124,
   "metadata": {},
   "outputs": [],
   "source": [
    "ee = df_ellipse_results['eccentricity']\n",
    "amin = df_ellipse_results['minor_axis_px']\n",
    "amax = df_ellipse_results['major_axis_px']"
   ]
  },
  {
   "cell_type": "code",
   "execution_count": 125,
   "metadata": {},
   "outputs": [],
   "source": [
    "projector = np.quantile(np.nan_to_num(ee, nan=0), 0.95)\n"
   ]
  },
  {
   "cell_type": "code",
   "execution_count": 127,
   "metadata": {},
   "outputs": [],
   "source": [
    "proj = projector / ee"
   ]
  },
  {
   "cell_type": "code",
   "execution_count": 133,
   "metadata": {},
   "outputs": [
    {
     "data": {
      "text/plain": [
       "<Axes: >"
      ]
     },
     "execution_count": 133,
     "metadata": {},
     "output_type": "execute_result"
    },
    {
     "data": {
      "image/png": "[encoded data removed]",
      "text/plain": [
       "<Figure size 640x480 with 1 Axes>"
      ]
     },
     "metadata": {},
     "output_type": "display_data"
    }
   ],
   "source": [
    "(amax * proj * PIXEL_RESOLUTION_UM_PER_PX).hist(bins = np.linspace(0, 50, 100)) "
   ]
  },
  {
   "cell_type": "code",
   "execution_count": 134,
   "metadata": {},
   "outputs": [
    {
     "data": {
      "text/plain": [
       "<Axes: >"
      ]
     },
     "execution_count": 134,
     "metadata": {},
     "output_type": "execute_result"
    },
    {
     "data": {
      "image/png": "[encoded data removed]",
      "text/plain": [
       "<Figure size 640x480 with 1 Axes>"
      ]
     },
     "metadata": {},
     "output_type": "display_data"
    }
   ],
   "source": [
    "(amin * projector * PIXEL_RESOLUTION_UM_PER_PX).hist(bins = np.linspace(0, 50, 100)) "
   ]
  },
  {
   "cell_type": "code",
   "execution_count": null,
   "metadata": {},
   "outputs": [],
   "source": []
  }
 ],
 "metadata": {
  "colab": {
   "authorship_tag": "ABX9TyMsywhzgeEVgP9PYJ54Jbnh",
   "provenance": []
  },
  "kernelspec": {
   "display_name": "paleo",
   "language": "python",
   "name": "python3"
  },
  "language_info": {
   "codemirror_mode": {
    "name": "ipython",
    "version": 3
   },
   "file_extension": ".py",
   "mimetype": "text/x-python",
   "name": "python",
   "nbconvert_exporter": "python",
   "pygments_lexer": "ipython3",
   "version": "3.12.11"
  },
  "widgets": {
   "application/vnd.jupyter.widget-state+json": {
    "14c60120f92242fba7efec769301e649": {
     "model_module": "@jupyter-widgets/base",
     "model_module_version": "1.2.0",
     "model_name": "LayoutModel",
     "state": {
      "_model_module": "@jupyter-widgets/base",
      "_model_module_version": "1.2.0",
      "_model_name": "LayoutModel",
      "_view_count": null,
      "_view_module": "@jupyter-widgets/base",
      "_view_module_version": "1.2.0",
      "_view_name": "LayoutView",
      "align_content": null,
      "align_items": null,
      "align_self": null,
      "border": null,
      "bottom": null,
      "display": null,
      "flex": null,
      "flex_flow": null,
      "grid_area": null,
      "grid_auto_columns": null,
      "grid_auto_flow": null,
      "grid_auto_rows": null,
      "grid_column": null,
      "grid_gap": null,
      "grid_row": null,
      "grid_template_areas": null,
      "grid_template_columns": null,
      "grid_template_rows": null,
      "height": null,
      "justify_content": null,
      "justify_items": null,
      "left": null,
      "margin": null,
      "max_height": null,
      "max_width": null,
      "min_height": null,
      "min_width": null,
      "object_fit": null,
      "object_position": null,
      "order": null,
      "overflow": null,
      "overflow_x": null,
      "overflow_y": null,
      "padding": null,
      "right": null,
      "top": null,
      "visibility": null,
      "width": null
     }
    },
    "19708ff18d4545ef847724e9c41b0755": {
     "model_module": "@jupyter-widgets/base",
     "model_module_version": "1.2.0",
     "model_name": "LayoutModel",
     "state": {
      "_model_module": "@jupyter-widgets/base",
      "_model_module_version": "1.2.0",
      "_model_name": "LayoutModel",
      "_view_count": null,
      "_view_module": "@jupyter-widgets/base",
      "_view_module_version": "1.2.0",
      "_view_name": "LayoutView",
      "align_content": null,
      "align_items": null,
      "align_self": null,
      "border": null,
      "bottom": null,
      "display": null,
      "flex": null,
      "flex_flow": null,
      "grid_area": null,
      "grid_auto_columns": null,
      "grid_auto_flow": null,
      "grid_auto_rows": null,
      "grid_column": null,
      "grid_gap": null,
      "grid_row": null,
      "grid_template_areas": null,
      "grid_template_columns": null,
      "grid_template_rows": null,
      "height": null,
      "justify_content": null,
      "justify_items": null,
      "left": null,
      "margin": null,
      "max_height": null,
      "max_width": null,
      "min_height": null,
      "min_width": null,
      "object_fit": null,
      "object_position": null,
      "order": null,
      "overflow": null,
      "overflow_x": null,
      "overflow_y": null,
      "padding": null,
      "right": null,
      "top": null,
      "visibility": null,
      "width": null
     }
    },
    "1dd3f54a68684034b5f11392c7751dd5": {
     "model_module": "@jupyter-widgets/base",
     "model_module_version": "1.2.0",
     "model_name": "LayoutModel",
     "state": {
      "_model_module": "@jupyter-widgets/base",
      "_model_module_version": "1.2.0",
      "_model_name": "LayoutModel",
      "_view_count": null,
      "_view_module": "@jupyter-widgets/base",
      "_view_module_version": "1.2.0",
      "_view_name": "LayoutView",
      "align_content": null,
      "align_items": null,
      "align_self": null,
      "border": null,
      "bottom": null,
      "display": null,
      "flex": null,
      "flex_flow": null,
      "grid_area": null,
      "grid_auto_columns": null,
      "grid_auto_flow": null,
      "grid_auto_rows": null,
      "grid_column": null,
      "grid_gap": null,
      "grid_row": null,
      "grid_template_areas": null,
      "grid_template_columns": null,
      "grid_template_rows": null,
      "height": null,
      "justify_content": null,
      "justify_items": null,
      "left": null,
      "margin": null,
      "max_height": null,
      "max_width": null,
      "min_height": null,
      "min_width": null,
      "object_fit": null,
      "object_position": null,
      "order": null,
      "overflow": null,
      "overflow_x": null,
      "overflow_y": null,
      "padding": null,
      "right": null,
      "top": null,
      "visibility": null,
      "width": null
     }
    },
    "2337a372a3784adfa54f7e6af944b067": {
     "model_module": "@jupyter-widgets/base",
     "model_module_version": "1.2.0",
     "model_name": "LayoutModel",
     "state": {
      "_model_module": "@jupyter-widgets/base",
      "_model_module_version": "1.2.0",
      "_model_name": "LayoutModel",
      "_view_count": null,
      "_view_module": "@jupyter-widgets/base",
      "_view_module_version": "1.2.0",
      "_view_name": "LayoutView",
      "align_content": null,
      "align_items": null,
      "align_self": null,
      "border": null,
      "bottom": null,
      "display": null,
      "flex": null,
      "flex_flow": null,
      "grid_area": null,
      "grid_auto_columns": null,
      "grid_auto_flow": null,
      "grid_auto_rows": null,
      "grid_column": null,
      "grid_gap": null,
      "grid_row": null,
      "grid_template_areas": null,
      "grid_template_columns": null,
      "grid_template_rows": null,
      "height": null,
      "justify_content": null,
      "justify_items": null,
      "left": null,
      "margin": null,
      "max_height": null,
      "max_width": null,
      "min_height": null,
      "min_width": null,
      "object_fit": null,
      "object_position": null,
      "order": null,
      "overflow": null,
      "overflow_x": null,
      "overflow_y": null,
      "padding": null,
      "right": null,
      "top": null,
      "visibility": null,
      "width": null
     }
    },
    "2e16b52f4a0d44a2bf5e69135bad222c": {
     "model_module": "@jupyter-widgets/controls",
     "model_module_version": "1.5.0",
     "model_name": "HBoxModel",
     "state": {
      "_dom_classes": [],
      "_model_module": "@jupyter-widgets/controls",
      "_model_module_version": "1.5.0",
      "_model_name": "HBoxModel",
      "_view_count": null,
      "_view_module": "@jupyter-widgets/controls",
      "_view_module_version": "1.5.0",
      "_view_name": "HBoxView",
      "box_style": "",
      "children": [
       "IPY_MODEL_faf451618b494071afbe46a198bca2de",
       "IPY_MODEL_9f7b1c43bdb44a65b0f7595dde324762",
       "IPY_MODEL_f711f124e1d54cc0981f0bf9f56b7a82"
      ],
      "layout": "IPY_MODEL_19708ff18d4545ef847724e9c41b0755"
     }
    },
    "3a3e3a9386bd42edbf95b56cd180ac39": {
     "model_module": "@jupyter-widgets/base",
     "model_module_version": "1.2.0",
     "model_name": "LayoutModel",
     "state": {
      "_model_module": "@jupyter-widgets/base",
      "_model_module_version": "1.2.0",
      "_model_name": "LayoutModel",
      "_view_count": null,
      "_view_module": "@jupyter-widgets/base",
      "_view_module_version": "1.2.0",
      "_view_name": "LayoutView",
      "align_content": null,
      "align_items": null,
      "align_self": null,
      "border": null,
      "bottom": null,
      "display": null,
      "flex": null,
      "flex_flow": null,
      "grid_area": null,
      "grid_auto_columns": null,
      "grid_auto_flow": null,
      "grid_auto_rows": null,
      "grid_column": null,
      "grid_gap": null,
      "grid_row": null,
      "grid_template_areas": null,
      "grid_template_columns": null,
      "grid_template_rows": null,
      "height": null,
      "justify_content": null,
      "justify_items": null,
      "left": null,
      "margin": null,
      "max_height": null,
      "max_width": null,
      "min_height": null,
      "min_width": null,
      "object_fit": null,
      "object_position": null,
      "order": null,
      "overflow": null,
      "overflow_x": null,
      "overflow_y": null,
      "padding": null,
      "right": null,
      "top": null,
      "visibility": null,
      "width": null
     }
    },
    "42ed84645b494c939b264233f480776a": {
     "model_module": "@jupyter-widgets/base",
     "model_module_version": "1.2.0",
     "model_name": "LayoutModel",
     "state": {
      "_model_module": "@jupyter-widgets/base",
      "_model_module_version": "1.2.0",
      "_model_name": "LayoutModel",
      "_view_count": null,
      "_view_module": "@jupyter-widgets/base",
      "_view_module_version": "1.2.0",
      "_view_name": "LayoutView",
      "align_content": null,
      "align_items": null,
      "align_self": null,
      "border": null,
      "bottom": null,
      "display": null,
      "flex": null,
      "flex_flow": null,
      "grid_area": null,
      "grid_auto_columns": null,
      "grid_auto_flow": null,
      "grid_auto_rows": null,
      "grid_column": null,
      "grid_gap": null,
      "grid_row": null,
      "grid_template_areas": null,
      "grid_template_columns": null,
      "grid_template_rows": null,
      "height": null,
      "justify_content": null,
      "justify_items": null,
      "left": null,
      "margin": null,
      "max_height": null,
      "max_width": null,
      "min_height": null,
      "min_width": null,
      "object_fit": null,
      "object_position": null,
      "order": null,
      "overflow": null,
      "overflow_x": null,
      "overflow_y": null,
      "padding": null,
      "right": null,
      "top": null,
      "visibility": null,
      "width": null
     }
    },
    "60edd04712624697b9de164c95120220": {
     "model_module": "@jupyter-widgets/controls",
     "model_module_version": "1.5.0",
     "model_name": "DescriptionStyleModel",
     "state": {
      "_model_module": "@jupyter-widgets/controls",
      "_model_module_version": "1.5.0",
      "_model_name": "DescriptionStyleModel",
      "_view_count": null,
      "_view_module": "@jupyter-widgets/base",
      "_view_module_version": "1.2.0",
      "_view_name": "StyleView",
      "description_width": ""
     }
    },
    "69310da730154458ad1197397d2589f8": {
     "model_module": "@jupyter-widgets/base",
     "model_module_version": "1.2.0",
     "model_name": "LayoutModel",
     "state": {
      "_model_module": "@jupyter-widgets/base",
      "_model_module_version": "1.2.0",
      "_model_name": "LayoutModel",
      "_view_count": null,
      "_view_module": "@jupyter-widgets/base",
      "_view_module_version": "1.2.0",
      "_view_name": "LayoutView",
      "align_content": null,
      "align_items": null,
      "align_self": null,
      "border": null,
      "bottom": null,
      "display": null,
      "flex": null,
      "flex_flow": null,
      "grid_area": null,
      "grid_auto_columns": null,
      "grid_auto_flow": null,
      "grid_auto_rows": null,
      "grid_column": null,
      "grid_gap": null,
      "grid_row": null,
      "grid_template_areas": null,
      "grid_template_columns": null,
      "grid_template_rows": null,
      "height": null,
      "justify_content": null,
      "justify_items": null,
      "left": null,
      "margin": null,
      "max_height": null,
      "max_width": null,
      "min_height": null,
      "min_width": null,
      "object_fit": null,
      "object_position": null,
      "order": null,
      "overflow": null,
      "overflow_x": null,
      "overflow_y": null,
      "padding": null,
      "right": null,
      "top": null,
      "visibility": null,
      "width": null
     }
    },
    "9908b8d198a44a809db7d44240af57d7": {
     "model_module": "@jupyter-widgets/base",
     "model_module_version": "1.2.0",
     "model_name": "LayoutModel",
     "state": {
      "_model_module": "@jupyter-widgets/base",
      "_model_module_version": "1.2.0",
      "_model_name": "LayoutModel",
      "_view_count": null,
      "_view_module": "@jupyter-widgets/base",
      "_view_module_version": "1.2.0",
      "_view_name": "LayoutView",
      "align_content": null,
      "align_items": null,
      "align_self": null,
      "border": null,
      "bottom": null,
      "display": null,
      "flex": null,
      "flex_flow": null,
      "grid_area": null,
      "grid_auto_columns": null,
      "grid_auto_flow": null,
      "grid_auto_rows": null,
      "grid_column": null,
      "grid_gap": null,
      "grid_row": null,
      "grid_template_areas": null,
      "grid_template_columns": null,
      "grid_template_rows": null,
      "height": null,
      "justify_content": null,
      "justify_items": null,
      "left": null,
      "margin": null,
      "max_height": null,
      "max_width": null,
      "min_height": null,
      "min_width": null,
      "object_fit": null,
      "object_position": null,
      "order": null,
      "overflow": null,
      "overflow_x": null,
      "overflow_y": null,
      "padding": null,
      "right": null,
      "top": null,
      "visibility": null,
      "width": null
     }
    },
    "9f7b1c43bdb44a65b0f7595dde324762": {
     "model_module": "@jupyter-widgets/controls",
     "model_module_version": "1.5.0",
     "model_name": "FloatProgressModel",
     "state": {
      "_dom_classes": [],
      "_model_module": "@jupyter-widgets/controls",
      "_model_module_version": "1.5.0",
      "_model_name": "FloatProgressModel",
      "_view_count": null,
      "_view_module": "@jupyter-widgets/controls",
      "_view_module_version": "1.5.0",
      "_view_name": "ProgressView",
      "bar_style": "success",
      "description": "",
      "description_tooltip": null,
      "layout": "IPY_MODEL_2337a372a3784adfa54f7e6af944b067",
      "max": 59,
      "min": 0,
      "orientation": "horizontal",
      "style": "IPY_MODEL_e3ace6462d904ddab727fb976a0a2f3f",
      "value": 59
     }
    },
    "a4877cc62c3b40a9a69912ba239f1b7f": {
     "model_module": "@jupyter-widgets/controls",
     "model_module_version": "1.5.0",
     "model_name": "DescriptionStyleModel",
     "state": {
      "_model_module": "@jupyter-widgets/controls",
      "_model_module_version": "1.5.0",
      "_model_name": "DescriptionStyleModel",
      "_view_count": null,
      "_view_module": "@jupyter-widgets/base",
      "_view_module_version": "1.2.0",
      "_view_name": "StyleView",
      "description_width": ""
     }
    },
    "c0cc94574bc44acf91280adabdfae085": {
     "model_module": "@jupyter-widgets/controls",
     "model_module_version": "1.5.0",
     "model_name": "HBoxModel",
     "state": {
      "_dom_classes": [],
      "_model_module": "@jupyter-widgets/controls",
      "_model_module_version": "1.5.0",
      "_model_name": "HBoxModel",
      "_view_count": null,
      "_view_module": "@jupyter-widgets/controls",
      "_view_module_version": "1.5.0",
      "_view_name": "HBoxView",
      "box_style": "",
      "children": [
       "IPY_MODEL_c23a9f66d68a41a28d1fcaee6e8baf7f",
       "IPY_MODEL_fcd950f2a5464b5092117e01c839a118",
       "IPY_MODEL_e13a8e6f94cc49b4a061ce3e0b4a5952"
      ],
      "layout": "IPY_MODEL_9908b8d198a44a809db7d44240af57d7"
     }
    },
    "c23a9f66d68a41a28d1fcaee6e8baf7f": {
     "model_module": "@jupyter-widgets/controls",
     "model_module_version": "1.5.0",
     "model_name": "HTMLModel",
     "state": {
      "_dom_classes": [],
      "_model_module": "@jupyter-widgets/controls",
      "_model_module_version": "1.5.0",
      "_model_name": "HTMLModel",
      "_view_count": null,
      "_view_module": "@jupyter-widgets/controls",
      "_view_module_version": "1.5.0",
      "_view_name": "HTMLView",
      "description": "",
      "description_tooltip": null,
      "layout": "IPY_MODEL_3a3e3a9386bd42edbf95b56cd180ac39",
      "placeholder": "​",
      "style": "IPY_MODEL_f3bd213cbdaa4363a44a3fe8acd2a008",
      "value": "config.json: 100%"
     }
    },
    "c331c692b29c49db9f8f32c01030ff0e": {
     "model_module": "@jupyter-widgets/controls",
     "model_module_version": "1.5.0",
     "model_name": "ProgressStyleModel",
     "state": {
      "_model_module": "@jupyter-widgets/controls",
      "_model_module_version": "1.5.0",
      "_model_name": "ProgressStyleModel",
      "_view_count": null,
      "_view_module": "@jupyter-widgets/base",
      "_view_module_version": "1.2.0",
      "_view_name": "StyleView",
      "bar_color": null,
      "description_width": ""
     }
    },
    "e13a8e6f94cc49b4a061ce3e0b4a5952": {
     "model_module": "@jupyter-widgets/controls",
     "model_module_version": "1.5.0",
     "model_name": "HTMLModel",
     "state": {
      "_dom_classes": [],
      "_model_module": "@jupyter-widgets/controls",
      "_model_module_version": "1.5.0",
      "_model_name": "HTMLModel",
      "_view_count": null,
      "_view_module": "@jupyter-widgets/controls",
      "_view_module_version": "1.5.0",
      "_view_name": "HTMLView",
      "description": "",
      "description_tooltip": null,
      "layout": "IPY_MODEL_14c60120f92242fba7efec769301e649",
      "placeholder": "​",
      "style": "IPY_MODEL_ee127e37229c4c7386ede884d017759b",
      "value": " 156/156 [00:00&lt;00:00, 2.87kB/s]"
     }
    },
    "e3ace6462d904ddab727fb976a0a2f3f": {
     "model_module": "@jupyter-widgets/controls",
     "model_module_version": "1.5.0",
     "model_name": "ProgressStyleModel",
     "state": {
      "_model_module": "@jupyter-widgets/controls",
      "_model_module_version": "1.5.0",
      "_model_name": "ProgressStyleModel",
      "_view_count": null,
      "_view_module": "@jupyter-widgets/base",
      "_view_module_version": "1.2.0",
      "_view_name": "StyleView",
      "bar_color": null,
      "description_width": ""
     }
    },
    "ee127e37229c4c7386ede884d017759b": {
     "model_module": "@jupyter-widgets/controls",
     "model_module_version": "1.5.0",
     "model_name": "DescriptionStyleModel",
     "state": {
      "_model_module": "@jupyter-widgets/controls",
      "_model_module_version": "1.5.0",
      "_model_name": "DescriptionStyleModel",
      "_view_count": null,
      "_view_module": "@jupyter-widgets/base",
      "_view_module_version": "1.2.0",
      "_view_name": "StyleView",
      "description_width": ""
     }
    },
    "f3bd213cbdaa4363a44a3fe8acd2a008": {
     "model_module": "@jupyter-widgets/controls",
     "model_module_version": "1.5.0",
     "model_name": "DescriptionStyleModel",
     "state": {
      "_model_module": "@jupyter-widgets/controls",
      "_model_module_version": "1.5.0",
      "_model_name": "DescriptionStyleModel",
      "_view_count": null,
      "_view_module": "@jupyter-widgets/base",
      "_view_module_version": "1.2.0",
      "_view_name": "StyleView",
      "description_width": ""
     }
    },
    "f711f124e1d54cc0981f0bf9f56b7a82": {
     "model_module": "@jupyter-widgets/controls",
     "model_module_version": "1.5.0",
     "model_name": "HTMLModel",
     "state": {
      "_dom_classes": [],
      "_model_module": "@jupyter-widgets/controls",
      "_model_module_version": "1.5.0",
      "_model_name": "HTMLModel",
      "_view_count": null,
      "_view_module": "@jupyter-widgets/controls",
      "_view_module_version": "1.5.0",
      "_view_name": "HTMLView",
      "description": "",
      "description_tooltip": null,
      "layout": "IPY_MODEL_1dd3f54a68684034b5f11392c7751dd5",
      "placeholder": "​",
      "style": "IPY_MODEL_60edd04712624697b9de164c95120220",
      "value": " 59/59 [07:01&lt;00:00,  6.70s/it]"
     }
    },
    "faf451618b494071afbe46a198bca2de": {
     "model_module": "@jupyter-widgets/controls",
     "model_module_version": "1.5.0",
     "model_name": "HTMLModel",
     "state": {
      "_dom_classes": [],
      "_model_module": "@jupyter-widgets/controls",
      "_model_module_version": "1.5.0",
      "_model_name": "HTMLModel",
      "_view_count": null,
      "_view_module": "@jupyter-widgets/controls",
      "_view_module_version": "1.5.0",
      "_view_name": "HTMLView",
      "description": "",
      "description_tooltip": null,
      "layout": "IPY_MODEL_69310da730154458ad1197397d2589f8",
      "placeholder": "​",
      "style": "IPY_MODEL_a4877cc62c3b40a9a69912ba239f1b7f",
      "value": "Processing Images: 100%"
     }
    },
    "fcd950f2a5464b5092117e01c839a118": {
     "model_module": "@jupyter-widgets/controls",
     "model_module_version": "1.5.0",
     "model_name": "FloatProgressModel",
     "state": {
      "_dom_classes": [],
      "_model_module": "@jupyter-widgets/controls",
      "_model_module_version": "1.5.0",
      "_model_name": "FloatProgressModel",
      "_view_count": null,
      "_view_module": "@jupyter-widgets/controls",
      "_view_module_version": "1.5.0",
      "_view_name": "ProgressView",
      "bar_style": "success",
      "description": "",
      "description_tooltip": null,
      "layout": "IPY_MODEL_42ed84645b494c939b264233f480776a",
      "max": 156,
      "min": 0,
      "orientation": "horizontal",
      "style": "IPY_MODEL_c331c692b29c49db9f8f32c01030ff0e",
      "value": 156
     }
    }
   }
  }
 },
 "nbformat": 4,
 "nbformat_minor": 0
}
