{
 "cells": [
  {
   "cell_type": "markdown",
   "id": "5fb085f4-46c1-4e1f-af14-7397dfba0bff",
   "metadata": {},
   "source": [
    "# Paleo-Detector Analysis Pipeline\n",
    "\n",
    "This notebook provides a complete, end-to-end workflow for the phenomenological analysis of paleo-detectors. It is designed to calculate the expected nuclear recoil track spectra from both external cosmic ray muon signals and various internal/atmospheric backgrounds.\n",
    "\n",
    "The pipeline is built around the *mineral_utils.py* module, which contains the *Paleodetector* class. This class acts as the physics engine, handling all low-level data processing and calculations. The notebook serves as a high-level interface to configure and orchestrate the analysis.\n",
    "\n",
    "### Workflow Overview:\n",
    "\n",
    "**1. Configuration:** All analysis parameters are defined in the configuration cells. This includes selecting the mineral from a library, defining the geological history of the sample (age, exposure time, deposition rate), and setting up the astrophysical scenarios for the cosmic ray flux.\n",
    "\n",
    "**2. Initialization:** A Paleodetector object is created. This object automatically loads and caches all necessary input data, such as SRIM tables for ion ranges and pre-computed Geant4 results for muon interactions.\n",
    "\n",
    "**3. Background Calculation:** The notebook calculates the track spectra for the primary background sources:\n",
    "\n",
    "- Spontaneous Fission: Tracks from the spontaneous fission of Uranium-238 impurities within the mineral.\n",
    "\n",
    "- Radiogenic Neutrons: Tracks from neutrons produced by (α,n) reactions in the surrounding rock.\n",
    "\n",
    "- Neutrinos: Tracks from coherent elastic neutrino-nucleus scattering.\n",
    "\n",
    "**7. Signal Calculation:** For each defined astrophysical scenario, the notebook calculates the track spectrum from cosmic ray muons. This core step includes a sophisticated model for a time-variant cosmic ray flux and the continuous deposition of overburden, which attenuates the signal over the exposure window. The time integration is performed in parallel for efficiency.\n",
    "\n",
    "**8. Analysis & Plotting:** The final signal and background components are combined to produce the summary plots, showing the total expected number of tracks as a function of track length.\n"
   ]
  },
  {
   "cell_type": "code",
   "execution_count": 18,
   "id": "721410a0-920a-4d56-b549-635d58f015de",
   "metadata": {},
   "outputs": [
    {
     "name": "stdout",
     "output_type": "stream",
     "text": [
      "Libraries imported successfully.\n"
     ]
    }
   ],
   "source": [
    "import yaml\n",
    "import numpy as np\n",
    "from matplotlib import pyplot as plt\n",
    "\n",
    "# --- Custom Utility Module ---\n",
    "from mineral_utils import Paleodetector\n",
    "\n",
    "print(\"Libraries imported successfully.\")"
   ]
  },
  {
   "cell_type": "code",
   "execution_count": 19,
   "id": "43f41946",
   "metadata": {},
   "outputs": [],
   "source": [
    "mineral_name =  \"Halite\"  # Must match a key in MINERAL_LIBRARY\n",
    "\n",
    "sample_mass_kg = 0.0005       # Sample mass in kg (e.g., 0.01 for 10g)\n",
    "total_age_myr = 5.6\n",
    "total_exposure_kyr = 5600.         # Total age of the sample in millions of years\n",
    "exposure_window_kyr = 300.  # Duration of CR signal exposure in kyr\n",
    "\n",
    "# --- Continuous Deposition Model Parameters ---\n",
    "deposition_rate_m_kyr = np.array([2.5, 20.])\n",
    "continuous_overburden_density_g_cm3 = 2.16\n",
    "event_overburden_density_g_cm3 = 1.\n",
    "event_overburden_depth = 1500.\n",
    "initial_depth_m =  0.\n",
    "\n",
    "\n",
    "x_bins = np.linspace(0, 100000, 100)        #Track length bins in nm\n",
    "x_mids = x_bins[:-1] + np.diff(x_bins) / 2"
   ]
  },
  {
   "cell_type": "code",
   "execution_count": 20,
   "id": "940ab726",
   "metadata": {},
   "outputs": [],
   "source": [
    "CONFIG = yaml.safe_load(open('Data/basic_config.yaml', 'r'))\n",
    "MINERAL_LIBRARY = yaml.safe_load(open('Data/mineral_library.yaml', 'r'))"
   ]
  },
  {
   "cell_type": "code",
   "execution_count": 21,
   "id": "d0aefb77",
   "metadata": {},
   "outputs": [],
   "source": [
    "scenario_config_simple = {\n",
    "    'name': 'simple',\n",
    "    'event_fluxes': {\n",
    "        0.: ('H3a', 'H3a'),\n",
    "        300.: ('H3a', 'H3a'),\n",
    "    }\n",
    "}\n",
    "\n",
    "scenario_config_SN20 = {\n",
    "    'name': 'SN20',\n",
    "    'event_fluxes': {\n",
    "        0.: ('SN20pc_2kyr', 'SN20pc_2kyr'),            \n",
    "        10.: ('SN20pc_12kyr', 'SN20pc_12kyr'),\n",
    "        20.: ('SN20pc_22kyr', 'SN20pc_22kyr'),\n",
    "        30.: ('SN20pc_32kyr', 'SN20pc_32kyr'),\n",
    "        40.: ('SN20pc_42kyr', 'SN20pc_42kyr'),\n",
    "        50.: ('SN20pc_52kyr', 'SN20pc_52kyr'),\n",
    "        60.: ('SN20pc_62kyr', 'SN20pc_62kyr'),\n",
    "        70.: ('H3a', 'H3a'),\n",
    "        300.: ('H3a', 'H3a'),         \n",
    "    }\n",
    "}\n",
    "\n",
    "scenario_config_SN100 = {\n",
    "    'name': 'SN100',\n",
    "    'event_fluxes': {\n",
    "        0.: ('SN100pc_2kyr', 'SN100pc_2kyr'),            \n",
    "        10.: ('SN100pc_12kyr', 'SN100pc_12kyr'),\n",
    "        20.: ('SN100pc_22kyr', 'SN100pc_22kyr'),\n",
    "        30.: ('SN100pc_32kyr', 'SN100pc_32kyr'),\n",
    "        40.: ('SN100pc_42kyr', 'SN100pc_42kyr'),\n",
    "        50.: ('H3a', 'H3a'),\n",
    "        300.: ('H3a', 'H3a'),   \n",
    "    }\n",
    "}"
   ]
  },
  {
   "cell_type": "code",
   "execution_count": 22,
   "id": "8bce0ee2-6da1-4a3c-99d2-859f42a804c8",
   "metadata": {},
   "outputs": [
    {
     "name": "stdout",
     "output_type": "stream",
     "text": [
      "Initialized Paleodetector: Halite\n"
     ]
    }
   ],
   "source": [
    "# --- Setup & Verification ---\n",
    "mineral_config = MINERAL_LIBRARY.get(mineral_name)\n",
    "if not mineral_config:\n",
    "    raise ValueError(f\"Mineral '{mineral_name}' not found in MINERAL_LIBRARY.\")\n",
    "\n",
    "mineral = Paleodetector(mineral_config)"
   ]
  },
  {
   "cell_type": "markdown",
   "id": "a063d074",
   "metadata": {},
   "source": [
    "## Calculation of Track Spectra\n",
    "\n",
    "With the Paleodetector object initialized and all necessary data loaded, we can now proceed with the core physics calculations. The following cells will compute the differential track rate (dR/dx) for each relevant physical process and then integrate these rates over the sample's lifetime to find the total expected number of tracks in each track length bin.\n",
    "\n",
    "### Calculation Steps:\n",
    "\n",
    "**1. Backgrounds:** We first calculate the spectra for the steady-state backgrounds that accumulate over the entire geological age of the sample. These include spontaneous fission, radiogenic neutrons, and atmospheric neutrinos.\n",
    "\n",
    "**2. Muon Signal:** Next, we compute the primary signal from cosmic ray muons. The integrate_muon_signal_spectrum_parallel function is used for this. It performs a numerical integration over the specified exposure_window_kyr, accounting for two key time-dependent effects at each step:\n",
    "\n",
    "- The evolution of the cosmic ray flux, which is interpolated from the files defined in the scenario_config.\n",
    "\n",
    "- The increase in shielding due to the continuous deposition_rate_m_kyr.\n",
    "\n",
    "**3. Final Plot:** Finally, all calculated track components (signals and backgrounds) are summed and plotted to visualize the expected final track spectrum in the detector."
   ]
  },
  {
   "cell_type": "code",
   "execution_count": 23,
   "id": "a53bc449-3ea0-4759-b30f-4b592e5a5c25",
   "metadata": {},
   "outputs": [
    {
     "name": "stdout",
     "output_type": "stream",
     "text": [
      "Calculating spontaneous fission background...\n"
     ]
    }
   ],
   "source": [
    "total_fission_tracks = mineral.integrate_fission_spectrum(x_bins, total_age_myr, sample_mass_kg)"
   ]
  },
  {
   "cell_type": "code",
   "execution_count": 24,
   "id": "51f7bd24",
   "metadata": {},
   "outputs": [
    {
     "name": "stdout",
     "output_type": "stream",
     "text": [
      "Calculating radiogenic neutron background...\n"
     ]
    }
   ],
   "source": [
    "total_neutron_tracks = mineral.integrate_neutron_spectrum(x_bins, total_age_myr, sample_mass_kg)"
   ]
  },
  {
   "cell_type": "code",
   "execution_count": 25,
   "id": "175e1f0e",
   "metadata": {},
   "outputs": [
    {
     "name": "stderr",
     "output_type": "stream",
     "text": [
      "100%|██████████| 21/21 [01:26<00:00,  4.13s/it]\n",
      "  5%|▍         | 1/21 [00:18<06:04, 18.25s/it]"
     ]
    },
    {
     "name": "stdout",
     "output_type": "stream",
     "text": [
      "    - Saved processed data to Data/processed_recoils/Halite_muon_recoil_simple_15.0kyr_648mwe.npz\n",
      "    - Saved processed data to Data/processed_recoils/Halite_muon_recoil_simple_60.0kyr_2592mwe.npz\n",
      "    - Saved processed data to Data/processed_recoils/Halite_muon_recoil_simple_45.0kyr_1944mwe.npz\n",
      "    - Saved processed data to Data/processed_recoils/Halite_muon_recoil_simple_30.0kyr_1296mwe.npz    - Saved processed data to Data/processed_recoils/Halite_muon_recoil_simple_75.0kyr_3240mwe.npz\n",
      "\n"
     ]
    },
    {
     "name": "stderr",
     "output_type": "stream",
     "text": [
      " 14%|█▍        | 3/21 [00:53<04:37, 15.40s/it]"
     ]
    },
    {
     "name": "stdout",
     "output_type": "stream",
     "text": [
      "    - Saved processed data to Data/processed_recoils/Halite_muon_recoil_simple_90.0kyr_3888mwe.npz\n"
     ]
    },
    {
     "name": "stderr",
     "output_type": "stream",
     "text": [
      " 33%|███▎      | 7/21 [01:11<01:42,  7.31s/it]"
     ]
    },
    {
     "name": "stdout",
     "output_type": "stream",
     "text": [
      "    - Saved processed data to Data/processed_recoils/Halite_muon_recoil_simple_135.0kyr_5832mwe.npz\n",
      "    - Saved processed data to Data/processed_recoils/Halite_muon_recoil_simple_120.0kyr_5184mwe.npz\n",
      "    - Saved processed data to Data/processed_recoils/Halite_muon_recoil_simple_150.0kyr_6480mwe.npz\n",
      "    - Saved processed data to Data/processed_recoils/Halite_muon_recoil_simple_105.0kyr_4536mwe.npz\n",
      "    - Saved processed data to Data/processed_recoils/Halite_muon_recoil_simple_165.0kyr_7128mwe.npz\n"
     ]
    },
    {
     "name": "stderr",
     "output_type": "stream",
     "text": [
      " 43%|████▎     | 9/21 [01:50<02:10, 10.91s/it]"
     ]
    },
    {
     "name": "stdout",
     "output_type": "stream",
     "text": [
      "    - Saved processed data to Data/processed_recoils/Halite_muon_recoil_simple_180.0kyr_7776mwe.npz\n"
     ]
    },
    {
     "name": "stderr",
     "output_type": "stream",
     "text": [
      " 57%|█████▋    | 12/21 [01:53<00:52,  5.78s/it]/home/cgalelli/miniconda3/envs/paleo/lib/python3.12/site-packages/scipy/interpolate/_interpolate.py:712: RuntimeWarning: invalid value encountered in divide\n",
      "  slope = (y_hi - y_lo) / (x_hi - x_lo)[:, None]\n",
      "/home/cgalelli/Documents/PrimusCode/mineral_utils.py:539: IntegrationWarning: The occurrence of roundoff error is detected, which prevents \n",
      "  the requested tolerance from being achieved.  The error may be \n",
      "  underestimated.\n",
      "  integrated_flux, _ = quad(flux_attenuated, energy_bins_gev[i], energy_bins_gev[i+1])\n",
      " 62%|██████▏   | 13/21 [02:10<01:04,  8.03s/it]"
     ]
    },
    {
     "name": "stdout",
     "output_type": "stream",
     "text": [
      "    - Saved processed data to Data/processed_recoils/Halite_muon_recoil_simple_195.0kyr_8424mwe.npz\n",
      "    - Saved processed data to Data/processed_recoils/Halite_muon_recoil_simple_210.0kyr_9072mwe.npz\n",
      "    - Saved processed data to Data/processed_recoils/Halite_muon_recoil_simple_225.0kyr_9720mwe.npz\n",
      "    - Saved processed data to Data/processed_recoils/Halite_muon_recoil_simple_240.0kyr_10368mwe.npz\n",
      "    - Saved processed data to Data/processed_recoils/Halite_muon_recoil_simple_255.0kyr_11016mwe.npz\n"
     ]
    },
    {
     "name": "stderr",
     "output_type": "stream",
     "text": [
      " 71%|███████▏  | 15/21 [02:42<01:02, 10.38s/it]"
     ]
    },
    {
     "name": "stdout",
     "output_type": "stream",
     "text": [
      "    - Saved processed data to Data/processed_recoils/Halite_muon_recoil_simple_270.0kyr_11664mwe.npz\n"
     ]
    },
    {
     "name": "stderr",
     "output_type": "stream",
     "text": [
      " 90%|█████████ | 19/21 [02:58<00:13,  6.70s/it]"
     ]
    },
    {
     "name": "stdout",
     "output_type": "stream",
     "text": [
      "    - Saved processed data to Data/processed_recoils/Halite_muon_recoil_simple_285.0kyr_12312mwe.npz\n",
      "    - Saved processed data to Data/processed_recoils/Halite_muon_recoil_simple_300.0kyr_12960mwe.npz\n"
     ]
    },
    {
     "name": "stderr",
     "output_type": "stream",
     "text": [
      "100%|██████████| 21/21 [03:21<00:00,  9.59s/it]\n"
     ]
    }
   ],
   "source": [
    "total_muon_tracks_simple = [mineral.integrate_muon_signal_spectrum_parallel(\n",
    "    x_bins, \n",
    "    scenario_config=scenario_config_simple, \n",
    "    energy_bins_gev=CONFIG[\"geant4_energy_bins_gev\"], \n",
    "    exposure_window_kyr=exposure_window_kyr, \n",
    "    sample_mass_kg = sample_mass_kg,\n",
    "    deposition_rate_m_kyr = deposition,\n",
    "    overburden_density_g_cm3 = continuous_overburden_density_g_cm3,\n",
    "    nsteps=20,\n",
    ") for deposition in deposition_rate_m_kyr]"
   ]
  },
  {
   "cell_type": "code",
   "execution_count": 26,
   "id": "08fa7fd0",
   "metadata": {},
   "outputs": [
    {
     "name": "stderr",
     "output_type": "stream",
     "text": [
      "100%|██████████| 151/151 [08:49<00:00,  3.51s/it]\n",
      "  1%|          | 1/151 [00:18<45:28, 18.19s/it]"
     ]
    },
    {
     "name": "stdout",
     "output_type": "stream",
     "text": [
      "    - Saved processed data to Data/processed_recoils/Halite_muon_recoil_SN20_8.0kyr_346mwe.npz\n",
      "    - Saved processed data to Data/processed_recoils/Halite_muon_recoil_SN20_4.0kyr_173mwe.npz\n",
      "    - Saved processed data to Data/processed_recoils/Halite_muon_recoil_SN20_2.0kyr_86mwe.npz\n",
      "    - Saved processed data to Data/processed_recoils/Halite_muon_recoil_SN20_10.0kyr_432mwe.npz\n",
      "    - Saved processed data to Data/processed_recoils/Halite_muon_recoil_SN20_6.0kyr_259mwe.npz\n"
     ]
    },
    {
     "name": "stderr",
     "output_type": "stream",
     "text": [
      "  1%|▏         | 2/151 [00:51<1:07:46, 27.29s/it]"
     ]
    },
    {
     "name": "stdout",
     "output_type": "stream",
     "text": [
      "    - Saved processed data to Data/processed_recoils/Halite_muon_recoil_SN20_12.0kyr_518mwe.npz\n"
     ]
    },
    {
     "name": "stderr",
     "output_type": "stream",
     "text": [
      "  5%|▍         | 7/151 [01:09<16:38,  6.93s/it]  "
     ]
    },
    {
     "name": "stdout",
     "output_type": "stream",
     "text": [
      "    - Saved processed data to Data/processed_recoils/Halite_muon_recoil_SN20_14.0kyr_605mwe.npz\n",
      "    - Saved processed data to Data/processed_recoils/Halite_muon_recoil_SN20_16.0kyr_691mwe.npz\n",
      "    - Saved processed data to Data/processed_recoils/Halite_muon_recoil_SN20_18.0kyr_778mwe.npz\n",
      "    - Saved processed data to Data/processed_recoils/Halite_muon_recoil_SN20_22.0kyr_950mwe.npz\n",
      "    - Saved processed data to Data/processed_recoils/Halite_muon_recoil_SN20_20.0kyr_864mwe.npz\n"
     ]
    },
    {
     "name": "stderr",
     "output_type": "stream",
     "text": [
      "  5%|▌         | 8/151 [01:44<31:42, 13.31s/it]"
     ]
    },
    {
     "name": "stdout",
     "output_type": "stream",
     "text": [
      "    - Saved processed data to Data/processed_recoils/Halite_muon_recoil_SN20_24.0kyr_1037mwe.npz\n"
     ]
    },
    {
     "name": "stderr",
     "output_type": "stream",
     "text": [
      "  9%|▊         | 13/151 [02:03<15:29,  6.73s/it]"
     ]
    },
    {
     "name": "stdout",
     "output_type": "stream",
     "text": [
      "    - Saved processed data to Data/processed_recoils/Halite_muon_recoil_SN20_26.0kyr_1123mwe.npz\n",
      "    - Saved processed data to Data/processed_recoils/Halite_muon_recoil_SN20_28.0kyr_1210mwe.npz\n",
      "    - Saved processed data to Data/processed_recoils/Halite_muon_recoil_SN20_30.0kyr_1296mwe.npz\n",
      "    - Saved processed data to Data/processed_recoils/Halite_muon_recoil_SN20_32.0kyr_1382mwe.npz\n",
      "    - Saved processed data to Data/processed_recoils/Halite_muon_recoil_SN20_34.0kyr_1469mwe.npz\n",
      "    - Saved processed data to Data/processed_recoils/Halite_muon_recoil_SN20_36.0kyr_1555mwe.npz\n"
     ]
    },
    {
     "name": "stderr",
     "output_type": "stream",
     "text": [
      " 13%|█▎        | 19/151 [02:55<15:28,  7.03s/it]"
     ]
    },
    {
     "name": "stdout",
     "output_type": "stream",
     "text": [
      "    - Saved processed data to Data/processed_recoils/Halite_muon_recoil_SN20_40.0kyr_1728mwe.npz\n",
      "    - Saved processed data to Data/processed_recoils/Halite_muon_recoil_SN20_38.0kyr_1642mwe.npz\n",
      "    - Saved processed data to Data/processed_recoils/Halite_muon_recoil_SN20_42.0kyr_1814mwe.npz\n",
      "    - Saved processed data to Data/processed_recoils/Halite_muon_recoil_SN20_46.0kyr_1987mwe.npz\n",
      "    - Saved processed data to Data/processed_recoils/Halite_muon_recoil_SN20_44.0kyr_1901mwe.npz\n",
      "    - Saved processed data to Data/processed_recoils/Halite_muon_recoil_SN20_48.0kyr_2074mwe.npz\n"
     ]
    },
    {
     "name": "stderr",
     "output_type": "stream",
     "text": [
      " 17%|█▋        | 25/151 [03:47<13:06,  6.24s/it]"
     ]
    },
    {
     "name": "stdout",
     "output_type": "stream",
     "text": [
      "    - Saved processed data to Data/processed_recoils/Halite_muon_recoil_SN20_50.0kyr_2160mwe.npz\n",
      "    - Saved processed data to Data/processed_recoils/Halite_muon_recoil_SN20_52.0kyr_2246mwe.npz\n",
      "    - Saved processed data to Data/processed_recoils/Halite_muon_recoil_SN20_56.0kyr_2419mwe.npz\n",
      "    - Saved processed data to Data/processed_recoils/Halite_muon_recoil_SN20_54.0kyr_2333mwe.npz\n",
      "    - Saved processed data to Data/processed_recoils/Halite_muon_recoil_SN20_58.0kyr_2506mwe.npz\n",
      "    - Saved processed data to Data/processed_recoils/Halite_muon_recoil_SN20_60.0kyr_2592mwe.npz\n"
     ]
    },
    {
     "name": "stderr",
     "output_type": "stream",
     "text": [
      " 21%|██        | 31/151 [04:40<11:48,  5.90s/it]"
     ]
    },
    {
     "name": "stdout",
     "output_type": "stream",
     "text": [
      "    - Saved processed data to Data/processed_recoils/Halite_muon_recoil_SN20_62.0kyr_2678mwe.npz\n",
      "    - Saved processed data to Data/processed_recoils/Halite_muon_recoil_SN20_64.0kyr_2765mwe.npz\n",
      "    - Saved processed data to Data/processed_recoils/Halite_muon_recoil_SN20_66.0kyr_2851mwe.npz\n",
      "    - Saved processed data to Data/processed_recoils/Halite_muon_recoil_SN20_68.0kyr_2938mwe.npz\n",
      "    - Saved processed data to Data/processed_recoils/Halite_muon_recoil_SN20_70.0kyr_3024mwe.npz\n"
     ]
    },
    {
     "name": "stderr",
     "output_type": "stream",
     "text": [
      " 21%|██        | 32/151 [05:12<22:25, 11.31s/it]"
     ]
    },
    {
     "name": "stdout",
     "output_type": "stream",
     "text": [
      "    - Saved processed data to Data/processed_recoils/Halite_muon_recoil_SN20_72.0kyr_3110mwe.npz\n"
     ]
    },
    {
     "name": "stderr",
     "output_type": "stream",
     "text": [
      " 25%|██▍       | 37/151 [05:30<10:53,  5.74s/it]"
     ]
    },
    {
     "name": "stdout",
     "output_type": "stream",
     "text": [
      "    - Saved processed data to Data/processed_recoils/Halite_muon_recoil_SN20_74.0kyr_3197mwe.npz\n",
      "    - Saved processed data to Data/processed_recoils/Halite_muon_recoil_SN20_76.0kyr_3283mwe.npz\n",
      "    - Saved processed data to Data/processed_recoils/Halite_muon_recoil_SN20_78.0kyr_3370mwe.npz\n",
      "    - Saved processed data to Data/processed_recoils/Halite_muon_recoil_SN20_80.0kyr_3456mwe.npz\n",
      "    - Saved processed data to Data/processed_recoils/Halite_muon_recoil_SN20_82.0kyr_3542mwe.npz\n",
      "    - Saved processed data to Data/processed_recoils/Halite_muon_recoil_SN20_84.0kyr_3629mwe.npz\n"
     ]
    },
    {
     "name": "stderr",
     "output_type": "stream",
     "text": [
      " 28%|██▊       | 43/151 [06:22<10:11,  5.66s/it]"
     ]
    },
    {
     "name": "stdout",
     "output_type": "stream",
     "text": [
      "    - Saved processed data to Data/processed_recoils/Halite_muon_recoil_SN20_86.0kyr_3715mwe.npz\n",
      "    - Saved processed data to Data/processed_recoils/Halite_muon_recoil_SN20_88.0kyr_3802mwe.npz\n",
      "    - Saved processed data to Data/processed_recoils/Halite_muon_recoil_SN20_90.0kyr_3888mwe.npz\n",
      "    - Saved processed data to Data/processed_recoils/Halite_muon_recoil_SN20_92.0kyr_3974mwe.npz\n",
      "    - Saved processed data to Data/processed_recoils/Halite_muon_recoil_SN20_94.0kyr_4061mwe.npz\n",
      "    - Saved processed data to Data/processed_recoils/Halite_muon_recoil_SN20_96.0kyr_4147mwe.npz\n"
     ]
    },
    {
     "name": "stderr",
     "output_type": "stream",
     "text": [
      " 32%|███▏      | 49/151 [07:12<08:28,  4.98s/it]"
     ]
    },
    {
     "name": "stdout",
     "output_type": "stream",
     "text": [
      "    - Saved processed data to Data/processed_recoils/Halite_muon_recoil_SN20_98.0kyr_4234mwe.npz\n",
      "    - Saved processed data to Data/processed_recoils/Halite_muon_recoil_SN20_100.0kyr_4320mwe.npz\n",
      "    - Saved processed data to Data/processed_recoils/Halite_muon_recoil_SN20_102.0kyr_4406mwe.npz\n",
      "    - Saved processed data to Data/processed_recoils/Halite_muon_recoil_SN20_104.0kyr_4493mwe.npz\n",
      "    - Saved processed data to Data/processed_recoils/Halite_muon_recoil_SN20_106.0kyr_4579mwe.npz\n",
      "    - Saved processed data to Data/processed_recoils/Halite_muon_recoil_SN20_108.0kyr_4666mwe.npz\n"
     ]
    },
    {
     "name": "stderr",
     "output_type": "stream",
     "text": [
      " 36%|███▋      | 55/151 [08:03<07:47,  4.87s/it]"
     ]
    },
    {
     "name": "stdout",
     "output_type": "stream",
     "text": [
      "    - Saved processed data to Data/processed_recoils/Halite_muon_recoil_SN20_110.0kyr_4752mwe.npz\n",
      "    - Saved processed data to Data/processed_recoils/Halite_muon_recoil_SN20_112.0kyr_4838mwe.npz\n",
      "    - Saved processed data to Data/processed_recoils/Halite_muon_recoil_SN20_116.0kyr_5011mwe.npz\n",
      "    - Saved processed data to Data/processed_recoils/Halite_muon_recoil_SN20_114.0kyr_4925mwe.npz\n",
      "    - Saved processed data to Data/processed_recoils/Halite_muon_recoil_SN20_118.0kyr_5098mwe.npz\n",
      "    - Saved processed data to Data/processed_recoils/Halite_muon_recoil_SN20_120.0kyr_5184mwe.npz\n"
     ]
    },
    {
     "name": "stderr",
     "output_type": "stream",
     "text": [
      " 40%|████      | 61/151 [09:02<07:57,  5.31s/it]"
     ]
    },
    {
     "name": "stdout",
     "output_type": "stream",
     "text": [
      "    - Saved processed data to Data/processed_recoils/Halite_muon_recoil_SN20_122.0kyr_5270mwe.npz\n",
      "    - Saved processed data to Data/processed_recoils/Halite_muon_recoil_SN20_124.0kyr_5357mwe.npz\n",
      "    - Saved processed data to Data/processed_recoils/Halite_muon_recoil_SN20_126.0kyr_5443mwe.npz\n",
      "    - Saved processed data to Data/processed_recoils/Halite_muon_recoil_SN20_128.0kyr_5530mwe.npz\n",
      "    - Saved processed data to Data/processed_recoils/Halite_muon_recoil_SN20_130.0kyr_5616mwe.npz\n",
      "    - Saved processed data to Data/processed_recoils/Halite_muon_recoil_SN20_132.0kyr_5702mwe.npz\n"
     ]
    },
    {
     "name": "stderr",
     "output_type": "stream",
     "text": [
      " 44%|████▍     | 67/151 [09:56<07:02,  5.03s/it]"
     ]
    },
    {
     "name": "stdout",
     "output_type": "stream",
     "text": [
      "    - Saved processed data to Data/processed_recoils/Halite_muon_recoil_SN20_134.0kyr_5789mwe.npz\n",
      "    - Saved processed data to Data/processed_recoils/Halite_muon_recoil_SN20_136.0kyr_5875mwe.npz\n",
      "    - Saved processed data to Data/processed_recoils/Halite_muon_recoil_SN20_138.0kyr_5962mwe.npz\n",
      "    - Saved processed data to Data/processed_recoils/Halite_muon_recoil_SN20_140.0kyr_6048mwe.npz\n",
      "    - Saved processed data to Data/processed_recoils/Halite_muon_recoil_SN20_142.0kyr_6134mwe.npz\n",
      "    - Saved processed data to Data/processed_recoils/Halite_muon_recoil_SN20_144.0kyr_6221mwe.npz\n"
     ]
    },
    {
     "name": "stderr",
     "output_type": "stream",
     "text": [
      " 48%|████▊     | 73/151 [10:48<06:36,  5.08s/it]"
     ]
    },
    {
     "name": "stdout",
     "output_type": "stream",
     "text": [
      "    - Saved processed data to Data/processed_recoils/Halite_muon_recoil_SN20_146.0kyr_6307mwe.npz\n",
      "    - Saved processed data to Data/processed_recoils/Halite_muon_recoil_SN20_148.0kyr_6394mwe.npz\n",
      "    - Saved processed data to Data/processed_recoils/Halite_muon_recoil_SN20_150.0kyr_6480mwe.npz\n",
      "    - Saved processed data to Data/processed_recoils/Halite_muon_recoil_SN20_152.0kyr_6566mwe.npz\n",
      "    - Saved processed data to Data/processed_recoils/Halite_muon_recoil_SN20_154.0kyr_6653mwe.npz\n",
      "    - Saved processed data to Data/processed_recoils/Halite_muon_recoil_SN20_156.0kyr_6739mwe.npz\n"
     ]
    },
    {
     "name": "stderr",
     "output_type": "stream",
     "text": [
      " 52%|█████▏    | 79/151 [11:41<05:24,  4.51s/it]"
     ]
    },
    {
     "name": "stdout",
     "output_type": "stream",
     "text": [
      "    - Saved processed data to Data/processed_recoils/Halite_muon_recoil_SN20_158.0kyr_6826mwe.npz\n",
      "    - Saved processed data to Data/processed_recoils/Halite_muon_recoil_SN20_160.0kyr_6912mwe.npz\n",
      "    - Saved processed data to Data/processed_recoils/Halite_muon_recoil_SN20_162.0kyr_6998mwe.npz\n",
      "    - Saved processed data to Data/processed_recoils/Halite_muon_recoil_SN20_164.0kyr_7085mwe.npz\n",
      "    - Saved processed data to Data/processed_recoils/Halite_muon_recoil_SN20_166.0kyr_7171mwe.npz\n",
      "    - Saved processed data to Data/processed_recoils/Halite_muon_recoil_SN20_168.0kyr_7258mwe.npz\n"
     ]
    },
    {
     "name": "stderr",
     "output_type": "stream",
     "text": [
      " 56%|█████▋    | 85/151 [12:32<04:54,  4.46s/it]"
     ]
    },
    {
     "name": "stdout",
     "output_type": "stream",
     "text": [
      "    - Saved processed data to Data/processed_recoils/Halite_muon_recoil_SN20_170.0kyr_7344mwe.npz\n",
      "    - Saved processed data to Data/processed_recoils/Halite_muon_recoil_SN20_172.0kyr_7430mwe.npz\n",
      "    - Saved processed data to Data/processed_recoils/Halite_muon_recoil_SN20_176.0kyr_7603mwe.npz\n",
      "    - Saved processed data to Data/processed_recoils/Halite_muon_recoil_SN20_174.0kyr_7517mwe.npz\n",
      "    - Saved processed data to Data/processed_recoils/Halite_muon_recoil_SN20_178.0kyr_7690mwe.npz\n",
      "    - Saved processed data to Data/processed_recoils/Halite_muon_recoil_SN20_180.0kyr_7776mwe.npz\n"
     ]
    },
    {
     "name": "stderr",
     "output_type": "stream",
     "text": [
      " 60%|██████    | 91/151 [13:26<05:05,  5.09s/it]"
     ]
    },
    {
     "name": "stdout",
     "output_type": "stream",
     "text": [
      "    - Saved processed data to Data/processed_recoils/Halite_muon_recoil_SN20_182.0kyr_7862mwe.npz\n",
      "    - Saved processed data to Data/processed_recoils/Halite_muon_recoil_SN20_184.0kyr_7949mwe.npz\n",
      "    - Saved processed data to Data/processed_recoils/Halite_muon_recoil_SN20_186.0kyr_8035mwe.npz\n",
      "    - Saved processed data to Data/processed_recoils/Halite_muon_recoil_SN20_188.0kyr_8122mwe.npz\n",
      "    - Saved processed data to Data/processed_recoils/Halite_muon_recoil_SN20_190.0kyr_8208mwe.npz\n",
      "    - Saved processed data to Data/processed_recoils/Halite_muon_recoil_SN20_192.0kyr_8294mwe.npz\n"
     ]
    },
    {
     "name": "stderr",
     "output_type": "stream",
     "text": [
      " 64%|██████▍   | 97/151 [14:17<04:00,  4.45s/it]"
     ]
    },
    {
     "name": "stdout",
     "output_type": "stream",
     "text": [
      "    - Saved processed data to Data/processed_recoils/Halite_muon_recoil_SN20_194.0kyr_8381mwe.npz\n",
      "    - Saved processed data to Data/processed_recoils/Halite_muon_recoil_SN20_196.0kyr_8467mwe.npz\n",
      "    - Saved processed data to Data/processed_recoils/Halite_muon_recoil_SN20_198.0kyr_8554mwe.npz\n",
      "    - Saved processed data to Data/processed_recoils/Halite_muon_recoil_SN20_200.0kyr_8640mwe.npz\n",
      "    - Saved processed data to Data/processed_recoils/Halite_muon_recoil_SN20_202.0kyr_8726mwe.npz\n",
      "    - Saved processed data to Data/processed_recoils/Halite_muon_recoil_SN20_204.0kyr_8813mwe.npz\n"
     ]
    },
    {
     "name": "stderr",
     "output_type": "stream",
     "text": [
      " 68%|██████▊   | 103/151 [15:08<03:40,  4.59s/it]"
     ]
    },
    {
     "name": "stdout",
     "output_type": "stream",
     "text": [
      "    - Saved processed data to Data/processed_recoils/Halite_muon_recoil_SN20_206.0kyr_8899mwe.npz\n",
      "    - Saved processed data to Data/processed_recoils/Halite_muon_recoil_SN20_208.0kyr_8986mwe.npz\n",
      "    - Saved processed data to Data/processed_recoils/Halite_muon_recoil_SN20_210.0kyr_9072mwe.npz\n",
      "    - Saved processed data to Data/processed_recoils/Halite_muon_recoil_SN20_212.0kyr_9158mwe.npz\n",
      "    - Saved processed data to Data/processed_recoils/Halite_muon_recoil_SN20_214.0kyr_9245mwe.npz\n",
      "    - Saved processed data to Data/processed_recoils/Halite_muon_recoil_SN20_216.0kyr_9331mwe.npz\n"
     ]
    },
    {
     "name": "stderr",
     "output_type": "stream",
     "text": [
      " 72%|███████▏  | 109/151 [16:01<03:09,  4.51s/it]"
     ]
    },
    {
     "name": "stdout",
     "output_type": "stream",
     "text": [
      "    - Saved processed data to Data/processed_recoils/Halite_muon_recoil_SN20_218.0kyr_9418mwe.npz\n",
      "    - Saved processed data to Data/processed_recoils/Halite_muon_recoil_SN20_222.0kyr_9590mwe.npz\n",
      "    - Saved processed data to Data/processed_recoils/Halite_muon_recoil_SN20_220.0kyr_9504mwe.npz\n",
      "    - Saved processed data to Data/processed_recoils/Halite_muon_recoil_SN20_224.0kyr_9677mwe.npz\n",
      "    - Saved processed data to Data/processed_recoils/Halite_muon_recoil_SN20_226.0kyr_9763mwe.npz\n",
      "    - Saved processed data to Data/processed_recoils/Halite_muon_recoil_SN20_228.0kyr_9850mwe.npz\n"
     ]
    },
    {
     "name": "stderr",
     "output_type": "stream",
     "text": [
      " 76%|███████▌  | 115/151 [16:51<02:54,  4.85s/it]"
     ]
    },
    {
     "name": "stdout",
     "output_type": "stream",
     "text": [
      "    - Saved processed data to Data/processed_recoils/Halite_muon_recoil_SN20_230.0kyr_9936mwe.npz\n",
      "    - Saved processed data to Data/processed_recoils/Halite_muon_recoil_SN20_232.0kyr_10022mwe.npz\n",
      "    - Saved processed data to Data/processed_recoils/Halite_muon_recoil_SN20_234.0kyr_10109mwe.npz\n",
      "    - Saved processed data to Data/processed_recoils/Halite_muon_recoil_SN20_236.0kyr_10195mwe.npz\n",
      "    - Saved processed data to Data/processed_recoils/Halite_muon_recoil_SN20_238.0kyr_10282mwe.npz\n",
      "    - Saved processed data to Data/processed_recoils/Halite_muon_recoil_SN20_240.0kyr_10368mwe.npz\n"
     ]
    },
    {
     "name": "stderr",
     "output_type": "stream",
     "text": [
      " 79%|███████▉  | 119/151 [17:39<03:38,  6.82s/it]/home/cgalelli/miniconda3/envs/paleo/lib/python3.12/site-packages/scipy/interpolate/_interpolate.py:712: RuntimeWarning: invalid value encountered in divide\n",
      "  slope = (y_hi - y_lo) / (x_hi - x_lo)[:, None]\n",
      "/home/cgalelli/Documents/PrimusCode/mineral_utils.py:539: IntegrationWarning: The occurrence of roundoff error is detected, which prevents \n",
      "  the requested tolerance from being achieved.  The error may be \n",
      "  underestimated.\n",
      "  integrated_flux, _ = quad(flux_attenuated, energy_bins_gev[i], energy_bins_gev[i+1])\n",
      " 79%|███████▉  | 120/151 [17:43<03:03,  5.93s/it]/home/cgalelli/miniconda3/envs/paleo/lib/python3.12/site-packages/scipy/interpolate/_interpolate.py:712: RuntimeWarning: invalid value encountered in divide\n",
      "  slope = (y_hi - y_lo) / (x_hi - x_lo)[:, None]\n",
      "/home/cgalelli/Documents/PrimusCode/mineral_utils.py:539: IntegrationWarning: The occurrence of roundoff error is detected, which prevents \n",
      "  the requested tolerance from being achieved.  The error may be \n",
      "  underestimated.\n",
      "  integrated_flux, _ = quad(flux_attenuated, energy_bins_gev[i], energy_bins_gev[i+1])\n",
      " 80%|████████  | 121/151 [17:44<02:17,  4.60s/it]/home/cgalelli/miniconda3/envs/paleo/lib/python3.12/site-packages/scipy/interpolate/_interpolate.py:712: RuntimeWarning: invalid value encountered in divide\n",
      "  slope = (y_hi - y_lo) / (x_hi - x_lo)[:, None]\n",
      "/home/cgalelli/Documents/PrimusCode/mineral_utils.py:539: IntegrationWarning: The occurrence of roundoff error is detected, which prevents \n",
      "  the requested tolerance from being achieved.  The error may be \n",
      "  underestimated.\n",
      "  integrated_flux, _ = quad(flux_attenuated, energy_bins_gev[i], energy_bins_gev[i+1])\n"
     ]
    },
    {
     "name": "stdout",
     "output_type": "stream",
     "text": [
      "    - Saved processed data to Data/processed_recoils/Halite_muon_recoil_SN20_242.0kyr_10454mwe.npz\n",
      "    - Saved processed data to Data/processed_recoils/Halite_muon_recoil_SN20_246.0kyr_10627mwe.npz\n",
      "    - Saved processed data to Data/processed_recoils/Halite_muon_recoil_SN20_244.0kyr_10541mwe.npz\n",
      "    - Saved processed data to Data/processed_recoils/Halite_muon_recoil_SN20_248.0kyr_10714mwe.npz\n",
      "    - Saved processed data to Data/processed_recoils/Halite_muon_recoil_SN20_250.0kyr_10800mwe.npz\n",
      "    - Saved processed data to Data/processed_recoils/Halite_muon_recoil_SN20_252.0kyr_10886mwe.npz\n"
     ]
    },
    {
     "name": "stderr",
     "output_type": "stream",
     "text": [
      " 81%|████████  | 122/151 [18:21<06:49, 14.11s/it]/home/cgalelli/miniconda3/envs/paleo/lib/python3.12/site-packages/scipy/interpolate/_interpolate.py:712: RuntimeWarning: invalid value encountered in divide\n",
      "  slope = (y_hi - y_lo) / (x_hi - x_lo)[:, None]\n",
      "/home/cgalelli/Documents/PrimusCode/mineral_utils.py:539: IntegrationWarning: The occurrence of roundoff error is detected, which prevents \n",
      "  the requested tolerance from being achieved.  The error may be \n",
      "  underestimated.\n",
      "  integrated_flux, _ = quad(flux_attenuated, energy_bins_gev[i], energy_bins_gev[i+1])\n",
      "/home/cgalelli/miniconda3/envs/paleo/lib/python3.12/site-packages/scipy/interpolate/_interpolate.py:712: RuntimeWarning: invalid value encountered in divide\n",
      "  slope = (y_hi - y_lo) / (x_hi - x_lo)[:, None]\n",
      "/home/cgalelli/Documents/PrimusCode/mineral_utils.py:539: IntegrationWarning: The occurrence of roundoff error is detected, which prevents \n",
      "  the requested tolerance from being achieved.  The error may be \n",
      "  underestimated.\n",
      "  integrated_flux, _ = quad(flux_attenuated, energy_bins_gev[i], energy_bins_gev[i+1])\n",
      " 81%|████████▏ | 123/151 [18:29<05:46, 12.37s/it]/home/cgalelli/miniconda3/envs/paleo/lib/python3.12/site-packages/scipy/interpolate/_interpolate.py:712: RuntimeWarning: invalid value encountered in divide\n",
      "  slope = (y_hi - y_lo) / (x_hi - x_lo)[:, None]\n",
      "/home/cgalelli/Documents/PrimusCode/mineral_utils.py:539: IntegrationWarning: The occurrence of roundoff error is detected, which prevents \n",
      "  the requested tolerance from being achieved.  The error may be \n",
      "  underestimated.\n",
      "  integrated_flux, _ = quad(flux_attenuated, energy_bins_gev[i], energy_bins_gev[i+1])\n",
      " 84%|████████▍ | 127/151 [18:38<02:04,  5.20s/it]"
     ]
    },
    {
     "name": "stdout",
     "output_type": "stream",
     "text": [
      "    - Saved processed data to Data/processed_recoils/Halite_muon_recoil_SN20_254.0kyr_10973mwe.npz\n",
      "    - Saved processed data to Data/processed_recoils/Halite_muon_recoil_SN20_256.0kyr_11059mwe.npz\n",
      "    - Saved processed data to Data/processed_recoils/Halite_muon_recoil_SN20_258.0kyr_11146mwe.npz\n",
      "    - Saved processed data to Data/processed_recoils/Halite_muon_recoil_SN20_260.0kyr_11232mwe.npz\n",
      "    - Saved processed data to Data/processed_recoils/Halite_muon_recoil_SN20_262.0kyr_11318mwe.npz\n",
      "    - Saved processed data to Data/processed_recoils/Halite_muon_recoil_SN20_264.0kyr_11405mwe.npz\n"
     ]
    },
    {
     "name": "stderr",
     "output_type": "stream",
     "text": [
      " 88%|████████▊ | 133/151 [19:31<01:25,  4.77s/it]"
     ]
    },
    {
     "name": "stdout",
     "output_type": "stream",
     "text": [
      "    - Saved processed data to Data/processed_recoils/Halite_muon_recoil_SN20_266.0kyr_11491mwe.npz\n",
      "    - Saved processed data to Data/processed_recoils/Halite_muon_recoil_SN20_268.0kyr_11578mwe.npz\n",
      "    - Saved processed data to Data/processed_recoils/Halite_muon_recoil_SN20_270.0kyr_11664mwe.npz\n",
      "    - Saved processed data to Data/processed_recoils/Halite_muon_recoil_SN20_272.0kyr_11750mwe.npz\n",
      "    - Saved processed data to Data/processed_recoils/Halite_muon_recoil_SN20_276.0kyr_11923mwe.npz\n",
      "    - Saved processed data to Data/processed_recoils/Halite_muon_recoil_SN20_274.0kyr_11837mwe.npz\n"
     ]
    },
    {
     "name": "stderr",
     "output_type": "stream",
     "text": [
      " 92%|█████████▏| 139/151 [20:23<00:55,  4.64s/it]"
     ]
    },
    {
     "name": "stdout",
     "output_type": "stream",
     "text": [
      "    - Saved processed data to Data/processed_recoils/Halite_muon_recoil_SN20_278.0kyr_12010mwe.npz\n",
      "    - Saved processed data to Data/processed_recoils/Halite_muon_recoil_SN20_280.0kyr_12096mwe.npz\n",
      "    - Saved processed data to Data/processed_recoils/Halite_muon_recoil_SN20_282.0kyr_12182mwe.npz\n",
      "    - Saved processed data to Data/processed_recoils/Halite_muon_recoil_SN20_284.0kyr_12269mwe.npz\n",
      "    - Saved processed data to Data/processed_recoils/Halite_muon_recoil_SN20_288.0kyr_12442mwe.npz\n"
     ]
    },
    {
     "name": "stderr",
     "output_type": "stream",
     "text": [
      " 93%|█████████▎| 140/151 [20:57<02:26, 13.28s/it]"
     ]
    },
    {
     "name": "stdout",
     "output_type": "stream",
     "text": [
      "    - Saved processed data to Data/processed_recoils/Halite_muon_recoil_SN20_286.0kyr_12355mwe.npz\n"
     ]
    },
    {
     "name": "stderr",
     "output_type": "stream",
     "text": [
      " 95%|█████████▌| 144/151 [21:15<00:46,  6.60s/it]"
     ]
    },
    {
     "name": "stdout",
     "output_type": "stream",
     "text": [
      "    - Saved processed data to Data/processed_recoils/Halite_muon_recoil_SN20_290.0kyr_12528mwe.npz\n",
      "    - Saved processed data to Data/processed_recoils/Halite_muon_recoil_SN20_292.0kyr_12614mwe.npz\n",
      "    - Saved processed data to Data/processed_recoils/Halite_muon_recoil_SN20_294.0kyr_12701mwe.npz\n",
      "    - Saved processed data to Data/processed_recoils/Halite_muon_recoil_SN20_296.0kyr_12787mwe.npz\n",
      "    - Saved processed data to Data/processed_recoils/Halite_muon_recoil_SN20_298.0kyr_12874mwe.npz\n"
     ]
    },
    {
     "name": "stderr",
     "output_type": "stream",
     "text": [
      " 97%|█████████▋| 146/151 [21:48<00:55, 11.13s/it]"
     ]
    },
    {
     "name": "stdout",
     "output_type": "stream",
     "text": [
      "    - Saved processed data to Data/processed_recoils/Halite_muon_recoil_SN20_300.0kyr_12960mwe.npz\n"
     ]
    },
    {
     "name": "stderr",
     "output_type": "stream",
     "text": [
      "100%|██████████| 151/151 [22:03<00:00,  8.77s/it]\n"
     ]
    }
   ],
   "source": [
    "total_muon_tracks_SN20 = [mineral.integrate_muon_signal_spectrum_parallel(\n",
    "    x_bins, \n",
    "    scenario_config=scenario_config_SN20, \n",
    "    energy_bins_gev=CONFIG[\"geant4_energy_bins_gev\"], \n",
    "    exposure_window_kyr=exposure_window_kyr, \n",
    "    sample_mass_kg = sample_mass_kg,\n",
    "    deposition_rate_m_kyr=deposition,\n",
    "    overburden_density_g_cm3=continuous_overburden_density_g_cm3,\n",
    "    nsteps=150,\n",
    ") for deposition in deposition_rate_m_kyr]"
   ]
  },
  {
   "cell_type": "code",
   "execution_count": 27,
   "id": "a08413e7",
   "metadata": {},
   "outputs": [
    {
     "name": "stderr",
     "output_type": "stream",
     "text": [
      "100%|██████████| 151/151 [07:48<00:00,  3.10s/it]\n",
      "  1%|          | 1/151 [00:17<43:36, 17.45s/it]"
     ]
    },
    {
     "name": "stdout",
     "output_type": "stream",
     "text": [
      "    - Saved processed data to Data/processed_recoils/Halite_muon_recoil_SN100_8.0kyr_346mwe.npz\n",
      "    - Saved processed data to Data/processed_recoils/Halite_muon_recoil_SN100_2.0kyr_86mwe.npz\n",
      "    - Saved processed data to Data/processed_recoils/Halite_muon_recoil_SN100_6.0kyr_259mwe.npz\n",
      "    - Saved processed data to Data/processed_recoils/Halite_muon_recoil_SN100_10.0kyr_432mwe.npz\n",
      "    - Saved processed data to Data/processed_recoils/Halite_muon_recoil_SN100_4.0kyr_173mwe.npz\n",
      "    - Saved processed data to Data/processed_recoils/Halite_muon_recoil_SN100_12.0kyr_518mwe.npz\n"
     ]
    },
    {
     "name": "stderr",
     "output_type": "stream",
     "text": [
      "  5%|▍         | 7/151 [01:07<16:48,  7.00s/it]  "
     ]
    },
    {
     "name": "stdout",
     "output_type": "stream",
     "text": [
      "    - Saved processed data to Data/processed_recoils/Halite_muon_recoil_SN100_20.0kyr_864mwe.npz\n",
      "    - Saved processed data to Data/processed_recoils/Halite_muon_recoil_SN100_16.0kyr_691mwe.npz\n",
      "    - Saved processed data to Data/processed_recoils/Halite_muon_recoil_SN100_14.0kyr_605mwe.npz\n",
      "    - Saved processed data to Data/processed_recoils/Halite_muon_recoil_SN100_18.0kyr_778mwe.npz\n",
      "    - Saved processed data to Data/processed_recoils/Halite_muon_recoil_SN100_22.0kyr_950mwe.npz\n",
      "    - Saved processed data to Data/processed_recoils/Halite_muon_recoil_SN100_24.0kyr_1037mwe.npz\n"
     ]
    },
    {
     "name": "stderr",
     "output_type": "stream",
     "text": [
      "  9%|▊         | 13/151 [01:56<16:22,  7.12s/it]"
     ]
    },
    {
     "name": "stdout",
     "output_type": "stream",
     "text": [
      "    - Saved processed data to Data/processed_recoils/Halite_muon_recoil_SN100_26.0kyr_1123mwe.npz\n",
      "    - Saved processed data to Data/processed_recoils/Halite_muon_recoil_SN100_34.0kyr_1469mwe.npz\n",
      "    - Saved processed data to Data/processed_recoils/Halite_muon_recoil_SN100_28.0kyr_1210mwe.npz\n",
      "    - Saved processed data to Data/processed_recoils/Halite_muon_recoil_SN100_30.0kyr_1296mwe.npz\n",
      "    - Saved processed data to Data/processed_recoils/Halite_muon_recoil_SN100_32.0kyr_1382mwe.npz\n",
      "    - Saved processed data to Data/processed_recoils/Halite_muon_recoil_SN100_36.0kyr_1555mwe.npz\n"
     ]
    },
    {
     "name": "stderr",
     "output_type": "stream",
     "text": [
      " 13%|█▎        | 19/151 [02:46<13:29,  6.14s/it]"
     ]
    },
    {
     "name": "stdout",
     "output_type": "stream",
     "text": [
      "    - Saved processed data to Data/processed_recoils/Halite_muon_recoil_SN100_38.0kyr_1642mwe.npz\n",
      "    - Saved processed data to Data/processed_recoils/Halite_muon_recoil_SN100_42.0kyr_1814mwe.npz\n",
      "    - Saved processed data to Data/processed_recoils/Halite_muon_recoil_SN100_40.0kyr_1728mwe.npz\n",
      "    - Saved processed data to Data/processed_recoils/Halite_muon_recoil_SN100_44.0kyr_1901mwe.npz\n",
      "    - Saved processed data to Data/processed_recoils/Halite_muon_recoil_SN100_46.0kyr_1987mwe.npz\n",
      "    - Saved processed data to Data/processed_recoils/Halite_muon_recoil_SN100_48.0kyr_2074mwe.npz\n"
     ]
    },
    {
     "name": "stderr",
     "output_type": "stream",
     "text": [
      " 17%|█▋        | 25/151 [03:36<12:50,  6.11s/it]"
     ]
    },
    {
     "name": "stdout",
     "output_type": "stream",
     "text": [
      "    - Saved processed data to Data/processed_recoils/Halite_muon_recoil_SN100_50.0kyr_2160mwe.npz\n",
      "    - Saved processed data to Data/processed_recoils/Halite_muon_recoil_SN100_52.0kyr_2246mwe.npz\n",
      "    - Saved processed data to Data/processed_recoils/Halite_muon_recoil_SN100_54.0kyr_2333mwe.npz\n",
      "    - Saved processed data to Data/processed_recoils/Halite_muon_recoil_SN100_56.0kyr_2419mwe.npz\n",
      "    - Saved processed data to Data/processed_recoils/Halite_muon_recoil_SN100_58.0kyr_2506mwe.npz\n",
      "    - Saved processed data to Data/processed_recoils/Halite_muon_recoil_SN100_60.0kyr_2592mwe.npz\n"
     ]
    },
    {
     "name": "stderr",
     "output_type": "stream",
     "text": [
      " 21%|██        | 31/151 [04:26<11:30,  5.75s/it]"
     ]
    },
    {
     "name": "stdout",
     "output_type": "stream",
     "text": [
      "    - Saved processed data to Data/processed_recoils/Halite_muon_recoil_SN100_64.0kyr_2765mwe.npz\n",
      "    - Saved processed data to Data/processed_recoils/Halite_muon_recoil_SN100_62.0kyr_2678mwe.npz\n",
      "    - Saved processed data to Data/processed_recoils/Halite_muon_recoil_SN100_66.0kyr_2851mwe.npz\n",
      "    - Saved processed data to Data/processed_recoils/Halite_muon_recoil_SN100_68.0kyr_2938mwe.npz\n",
      "    - Saved processed data to Data/processed_recoils/Halite_muon_recoil_SN100_70.0kyr_3024mwe.npz\n",
      "    - Saved processed data to Data/processed_recoils/Halite_muon_recoil_SN100_72.0kyr_3110mwe.npz\n"
     ]
    },
    {
     "name": "stderr",
     "output_type": "stream",
     "text": [
      " 25%|██▍       | 37/151 [05:16<11:17,  5.94s/it]"
     ]
    },
    {
     "name": "stdout",
     "output_type": "stream",
     "text": [
      "    - Saved processed data to Data/processed_recoils/Halite_muon_recoil_SN100_74.0kyr_3197mwe.npz\n",
      "    - Saved processed data to Data/processed_recoils/Halite_muon_recoil_SN100_76.0kyr_3283mwe.npz\n",
      "    - Saved processed data to Data/processed_recoils/Halite_muon_recoil_SN100_78.0kyr_3370mwe.npz\n",
      "    - Saved processed data to Data/processed_recoils/Halite_muon_recoil_SN100_80.0kyr_3456mwe.npz\n",
      "    - Saved processed data to Data/processed_recoils/Halite_muon_recoil_SN100_82.0kyr_3542mwe.npz\n",
      "    - Saved processed data to Data/processed_recoils/Halite_muon_recoil_SN100_84.0kyr_3629mwe.npz\n"
     ]
    },
    {
     "name": "stderr",
     "output_type": "stream",
     "text": [
      " 28%|██▊       | 43/151 [06:08<10:07,  5.62s/it]"
     ]
    },
    {
     "name": "stdout",
     "output_type": "stream",
     "text": [
      "    - Saved processed data to Data/processed_recoils/Halite_muon_recoil_SN100_88.0kyr_3802mwe.npz\n",
      "    - Saved processed data to Data/processed_recoils/Halite_muon_recoil_SN100_86.0kyr_3715mwe.npz\n",
      "    - Saved processed data to Data/processed_recoils/Halite_muon_recoil_SN100_90.0kyr_3888mwe.npz\n",
      "    - Saved processed data to Data/processed_recoils/Halite_muon_recoil_SN100_92.0kyr_3974mwe.npz\n",
      "    - Saved processed data to Data/processed_recoils/Halite_muon_recoil_SN100_94.0kyr_4061mwe.npz\n",
      "    - Saved processed data to Data/processed_recoils/Halite_muon_recoil_SN100_96.0kyr_4147mwe.npz\n"
     ]
    },
    {
     "name": "stderr",
     "output_type": "stream",
     "text": [
      " 32%|███▏      | 49/151 [06:58<10:18,  6.07s/it]"
     ]
    },
    {
     "name": "stdout",
     "output_type": "stream",
     "text": [
      "    - Saved processed data to Data/processed_recoils/Halite_muon_recoil_SN100_100.0kyr_4320mwe.npz\n",
      "    - Saved processed data to Data/processed_recoils/Halite_muon_recoil_SN100_98.0kyr_4234mwe.npz\n",
      "    - Saved processed data to Data/processed_recoils/Halite_muon_recoil_SN100_102.0kyr_4406mwe.npz\n",
      "    - Saved processed data to Data/processed_recoils/Halite_muon_recoil_SN100_104.0kyr_4493mwe.npz\n",
      "    - Saved processed data to Data/processed_recoils/Halite_muon_recoil_SN100_106.0kyr_4579mwe.npz\n",
      "    - Saved processed data to Data/processed_recoils/Halite_muon_recoil_SN100_108.0kyr_4666mwe.npz\n"
     ]
    },
    {
     "name": "stderr",
     "output_type": "stream",
     "text": [
      " 36%|███▋      | 55/151 [07:48<09:54,  6.19s/it]"
     ]
    },
    {
     "name": "stdout",
     "output_type": "stream",
     "text": [
      "    - Saved processed data to Data/processed_recoils/Halite_muon_recoil_SN100_110.0kyr_4752mwe.npz\n",
      "    - Saved processed data to Data/processed_recoils/Halite_muon_recoil_SN100_112.0kyr_4838mwe.npz\n",
      "    - Saved processed data to Data/processed_recoils/Halite_muon_recoil_SN100_114.0kyr_4925mwe.npz\n",
      "    - Saved processed data to Data/processed_recoils/Halite_muon_recoil_SN100_116.0kyr_5011mwe.npz\n",
      "    - Saved processed data to Data/processed_recoils/Halite_muon_recoil_SN100_118.0kyr_5098mwe.npz\n",
      "    - Saved processed data to Data/processed_recoils/Halite_muon_recoil_SN100_120.0kyr_5184mwe.npz\n"
     ]
    },
    {
     "name": "stderr",
     "output_type": "stream",
     "text": [
      " 40%|████      | 61/151 [08:40<08:00,  5.34s/it]"
     ]
    },
    {
     "name": "stdout",
     "output_type": "stream",
     "text": [
      "    - Saved processed data to Data/processed_recoils/Halite_muon_recoil_SN100_122.0kyr_5270mwe.npz\n",
      "    - Saved processed data to Data/processed_recoils/Halite_muon_recoil_SN100_124.0kyr_5357mwe.npz\n",
      "    - Saved processed data to Data/processed_recoils/Halite_muon_recoil_SN100_126.0kyr_5443mwe.npz\n",
      "    - Saved processed data to Data/processed_recoils/Halite_muon_recoil_SN100_128.0kyr_5530mwe.npz\n",
      "    - Saved processed data to Data/processed_recoils/Halite_muon_recoil_SN100_130.0kyr_5616mwe.npz\n",
      "    - Saved processed data to Data/processed_recoils/Halite_muon_recoil_SN100_132.0kyr_5702mwe.npz\n"
     ]
    },
    {
     "name": "stderr",
     "output_type": "stream",
     "text": [
      " 44%|████▍     | 67/151 [09:30<06:40,  4.77s/it]"
     ]
    },
    {
     "name": "stdout",
     "output_type": "stream",
     "text": [
      "    - Saved processed data to Data/processed_recoils/Halite_muon_recoil_SN100_134.0kyr_5789mwe.npz\n",
      "    - Saved processed data to Data/processed_recoils/Halite_muon_recoil_SN100_138.0kyr_5962mwe.npz\n",
      "    - Saved processed data to Data/processed_recoils/Halite_muon_recoil_SN100_136.0kyr_5875mwe.npz\n",
      "    - Saved processed data to Data/processed_recoils/Halite_muon_recoil_SN100_140.0kyr_6048mwe.npz\n",
      "    - Saved processed data to Data/processed_recoils/Halite_muon_recoil_SN100_142.0kyr_6134mwe.npz\n",
      "    - Saved processed data to Data/processed_recoils/Halite_muon_recoil_SN100_144.0kyr_6221mwe.npz\n"
     ]
    },
    {
     "name": "stderr",
     "output_type": "stream",
     "text": [
      " 48%|████▊     | 73/151 [10:20<06:24,  4.93s/it]"
     ]
    },
    {
     "name": "stdout",
     "output_type": "stream",
     "text": [
      "    - Saved processed data to Data/processed_recoils/Halite_muon_recoil_SN100_146.0kyr_6307mwe.npz\n",
      "    - Saved processed data to Data/processed_recoils/Halite_muon_recoil_SN100_152.0kyr_6566mwe.npz\n",
      "    - Saved processed data to Data/processed_recoils/Halite_muon_recoil_SN100_150.0kyr_6480mwe.npz\n",
      "    - Saved processed data to Data/processed_recoils/Halite_muon_recoil_SN100_148.0kyr_6394mwe.npz\n",
      "    - Saved processed data to Data/processed_recoils/Halite_muon_recoil_SN100_154.0kyr_6653mwe.npz\n",
      "    - Saved processed data to Data/processed_recoils/Halite_muon_recoil_SN100_156.0kyr_6739mwe.npz\n"
     ]
    },
    {
     "name": "stderr",
     "output_type": "stream",
     "text": [
      " 52%|█████▏    | 79/151 [11:10<06:08,  5.11s/it]"
     ]
    },
    {
     "name": "stdout",
     "output_type": "stream",
     "text": [
      "    - Saved processed data to Data/processed_recoils/Halite_muon_recoil_SN100_158.0kyr_6826mwe.npz\n",
      "    - Saved processed data to Data/processed_recoils/Halite_muon_recoil_SN100_160.0kyr_6912mwe.npz\n",
      "    - Saved processed data to Data/processed_recoils/Halite_muon_recoil_SN100_162.0kyr_6998mwe.npz\n",
      "    - Saved processed data to Data/processed_recoils/Halite_muon_recoil_SN100_164.0kyr_7085mwe.npz\n",
      "    - Saved processed data to Data/processed_recoils/Halite_muon_recoil_SN100_166.0kyr_7171mwe.npz\n",
      "    - Saved processed data to Data/processed_recoils/Halite_muon_recoil_SN100_168.0kyr_7258mwe.npz\n"
     ]
    },
    {
     "name": "stderr",
     "output_type": "stream",
     "text": [
      " 56%|█████▋    | 85/151 [12:00<04:32,  4.12s/it]"
     ]
    },
    {
     "name": "stdout",
     "output_type": "stream",
     "text": [
      "    - Saved processed data to Data/processed_recoils/Halite_muon_recoil_SN100_170.0kyr_7344mwe.npz\n",
      "    - Saved processed data to Data/processed_recoils/Halite_muon_recoil_SN100_174.0kyr_7517mwe.npz\n",
      "    - Saved processed data to Data/processed_recoils/Halite_muon_recoil_SN100_172.0kyr_7430mwe.npz\n",
      "    - Saved processed data to Data/processed_recoils/Halite_muon_recoil_SN100_176.0kyr_7603mwe.npz\n",
      "    - Saved processed data to Data/processed_recoils/Halite_muon_recoil_SN100_180.0kyr_7776mwe.npz\n",
      "    - Saved processed data to Data/processed_recoils/Halite_muon_recoil_SN100_178.0kyr_7690mwe.npz\n"
     ]
    },
    {
     "name": "stderr",
     "output_type": "stream",
     "text": [
      " 60%|█████▉    | 90/151 [12:53<06:13,  6.12s/it]"
     ]
    },
    {
     "name": "stdout",
     "output_type": "stream",
     "text": [
      "    - Saved processed data to Data/processed_recoils/Halite_muon_recoil_SN100_182.0kyr_7862mwe.npz\n",
      "    - Saved processed data to Data/processed_recoils/Halite_muon_recoil_SN100_184.0kyr_7949mwe.npz\n",
      "    - Saved processed data to Data/processed_recoils/Halite_muon_recoil_SN100_186.0kyr_8035mwe.npz\n",
      "    - Saved processed data to Data/processed_recoils/Halite_muon_recoil_SN100_188.0kyr_8122mwe.npz\n",
      "    - Saved processed data to Data/processed_recoils/Halite_muon_recoil_SN100_190.0kyr_8208mwe.npz\n",
      "    - Saved processed data to Data/processed_recoils/Halite_muon_recoil_SN100_192.0kyr_8294mwe.npz\n"
     ]
    },
    {
     "name": "stderr",
     "output_type": "stream",
     "text": [
      " 64%|██████▍   | 97/151 [13:43<04:01,  4.47s/it]"
     ]
    },
    {
     "name": "stdout",
     "output_type": "stream",
     "text": [
      "    - Saved processed data to Data/processed_recoils/Halite_muon_recoil_SN100_194.0kyr_8381mwe.npz\n",
      "    - Saved processed data to Data/processed_recoils/Halite_muon_recoil_SN100_196.0kyr_8467mwe.npz\n",
      "    - Saved processed data to Data/processed_recoils/Halite_muon_recoil_SN100_200.0kyr_8640mwe.npz    - Saved processed data to Data/processed_recoils/Halite_muon_recoil_SN100_198.0kyr_8554mwe.npz\n",
      "\n",
      "    - Saved processed data to Data/processed_recoils/Halite_muon_recoil_SN100_202.0kyr_8726mwe.npz\n",
      "    - Saved processed data to Data/processed_recoils/Halite_muon_recoil_SN100_204.0kyr_8813mwe.npz\n"
     ]
    },
    {
     "name": "stderr",
     "output_type": "stream",
     "text": [
      " 68%|██████▊   | 103/151 [14:36<03:44,  4.67s/it]"
     ]
    },
    {
     "name": "stdout",
     "output_type": "stream",
     "text": [
      "    - Saved processed data to Data/processed_recoils/Halite_muon_recoil_SN100_206.0kyr_8899mwe.npz\n",
      "    - Saved processed data to Data/processed_recoils/Halite_muon_recoil_SN100_208.0kyr_8986mwe.npz\n",
      "    - Saved processed data to Data/processed_recoils/Halite_muon_recoil_SN100_210.0kyr_9072mwe.npz\n",
      "    - Saved processed data to Data/processed_recoils/Halite_muon_recoil_SN100_212.0kyr_9158mwe.npz\n",
      "    - Saved processed data to Data/processed_recoils/Halite_muon_recoil_SN100_214.0kyr_9245mwe.npz\n",
      "    - Saved processed data to Data/processed_recoils/Halite_muon_recoil_SN100_216.0kyr_9331mwe.npz\n"
     ]
    },
    {
     "name": "stderr",
     "output_type": "stream",
     "text": [
      " 72%|███████▏  | 109/151 [15:26<03:01,  4.32s/it]"
     ]
    },
    {
     "name": "stdout",
     "output_type": "stream",
     "text": [
      "    - Saved processed data to Data/processed_recoils/Halite_muon_recoil_SN100_218.0kyr_9418mwe.npz\n",
      "    - Saved processed data to Data/processed_recoils/Halite_muon_recoil_SN100_220.0kyr_9504mwe.npz\n",
      "    - Saved processed data to Data/processed_recoils/Halite_muon_recoil_SN100_222.0kyr_9590mwe.npz\n",
      "    - Saved processed data to Data/processed_recoils/Halite_muon_recoil_SN100_224.0kyr_9677mwe.npz\n",
      "    - Saved processed data to Data/processed_recoils/Halite_muon_recoil_SN100_226.0kyr_9763mwe.npz\n",
      "    - Saved processed data to Data/processed_recoils/Halite_muon_recoil_SN100_228.0kyr_9850mwe.npz\n"
     ]
    },
    {
     "name": "stderr",
     "output_type": "stream",
     "text": [
      " 76%|███████▌  | 115/151 [16:17<02:34,  4.30s/it]"
     ]
    },
    {
     "name": "stdout",
     "output_type": "stream",
     "text": [
      "    - Saved processed data to Data/processed_recoils/Halite_muon_recoil_SN100_230.0kyr_9936mwe.npz\n",
      "    - Saved processed data to Data/processed_recoils/Halite_muon_recoil_SN100_232.0kyr_10022mwe.npz\n",
      "    - Saved processed data to Data/processed_recoils/Halite_muon_recoil_SN100_234.0kyr_10109mwe.npz\n",
      "    - Saved processed data to Data/processed_recoils/Halite_muon_recoil_SN100_236.0kyr_10195mwe.npz\n",
      "    - Saved processed data to Data/processed_recoils/Halite_muon_recoil_SN100_238.0kyr_10282mwe.npz\n",
      "    - Saved processed data to Data/processed_recoils/Halite_muon_recoil_SN100_240.0kyr_10368mwe.npz\n"
     ]
    },
    {
     "name": "stderr",
     "output_type": "stream",
     "text": [
      " 78%|███████▊  | 118/151 [17:04<05:03,  9.20s/it]/home/cgalelli/miniconda3/envs/paleo/lib/python3.12/site-packages/scipy/interpolate/_interpolate.py:712: RuntimeWarning: invalid value encountered in divide\n",
      "  slope = (y_hi - y_lo) / (x_hi - x_lo)[:, None]\n",
      "/home/cgalelli/Documents/PrimusCode/mineral_utils.py:539: IntegrationWarning: The occurrence of roundoff error is detected, which prevents \n",
      "  the requested tolerance from being achieved.  The error may be \n",
      "  underestimated.\n",
      "  integrated_flux, _ = quad(flux_attenuated, energy_bins_gev[i], energy_bins_gev[i+1])\n",
      " 79%|███████▉  | 120/151 [17:06<02:52,  5.58s/it]/home/cgalelli/miniconda3/envs/paleo/lib/python3.12/site-packages/scipy/interpolate/_interpolate.py:712: RuntimeWarning: invalid value encountered in divide\n",
      "  slope = (y_hi - y_lo) / (x_hi - x_lo)[:, None]\n",
      "/home/cgalelli/Documents/PrimusCode/mineral_utils.py:539: IntegrationWarning: The occurrence of roundoff error is detected, which prevents \n",
      "  the requested tolerance from being achieved.  The error may be \n",
      "  underestimated.\n",
      "  integrated_flux, _ = quad(flux_attenuated, energy_bins_gev[i], energy_bins_gev[i+1])\n",
      " 80%|████████  | 121/151 [17:08<02:20,  4.68s/it]/home/cgalelli/miniconda3/envs/paleo/lib/python3.12/site-packages/scipy/interpolate/_interpolate.py:712: RuntimeWarning: invalid value encountered in divide\n",
      "  slope = (y_hi - y_lo) / (x_hi - x_lo)[:, None]\n",
      "/home/cgalelli/Documents/PrimusCode/mineral_utils.py:539: IntegrationWarning: The occurrence of roundoff error is detected, which prevents \n",
      "  the requested tolerance from being achieved.  The error may be \n",
      "  underestimated.\n",
      "  integrated_flux, _ = quad(flux_attenuated, energy_bins_gev[i], energy_bins_gev[i+1])\n"
     ]
    },
    {
     "name": "stdout",
     "output_type": "stream",
     "text": [
      "    - Saved processed data to Data/processed_recoils/Halite_muon_recoil_SN100_242.0kyr_10454mwe.npz\n",
      "    - Saved processed data to Data/processed_recoils/Halite_muon_recoil_SN100_244.0kyr_10541mwe.npz\n",
      "    - Saved processed data to Data/processed_recoils/Halite_muon_recoil_SN100_246.0kyr_10627mwe.npz\n",
      "    - Saved processed data to Data/processed_recoils/Halite_muon_recoil_SN100_248.0kyr_10714mwe.npz\n",
      "    - Saved processed data to Data/processed_recoils/Halite_muon_recoil_SN100_250.0kyr_10800mwe.npz\n"
     ]
    },
    {
     "name": "stderr",
     "output_type": "stream",
     "text": [
      " 81%|████████  | 122/151 [17:42<05:54, 12.22s/it]/home/cgalelli/miniconda3/envs/paleo/lib/python3.12/site-packages/scipy/interpolate/_interpolate.py:712: RuntimeWarning: invalid value encountered in divide\n",
      "  slope = (y_hi - y_lo) / (x_hi - x_lo)[:, None]\n",
      "/home/cgalelli/Documents/PrimusCode/mineral_utils.py:539: IntegrationWarning: The occurrence of roundoff error is detected, which prevents \n",
      "  the requested tolerance from being achieved.  The error may be \n",
      "  underestimated.\n",
      "  integrated_flux, _ = quad(flux_attenuated, energy_bins_gev[i], energy_bins_gev[i+1])\n"
     ]
    },
    {
     "name": "stdout",
     "output_type": "stream",
     "text": [
      "    - Saved processed data to Data/processed_recoils/Halite_muon_recoil_SN100_252.0kyr_10886mwe.npz\n"
     ]
    },
    {
     "name": "stderr",
     "output_type": "stream",
     "text": [
      " 81%|████████▏ | 123/151 [17:53<05:32, 11.88s/it]/home/cgalelli/miniconda3/envs/paleo/lib/python3.12/site-packages/scipy/interpolate/_interpolate.py:712: RuntimeWarning: invalid value encountered in divide\n",
      "  slope = (y_hi - y_lo) / (x_hi - x_lo)[:, None]\n",
      "/home/cgalelli/Documents/PrimusCode/mineral_utils.py:539: IntegrationWarning: The occurrence of roundoff error is detected, which prevents \n",
      "  the requested tolerance from being achieved.  The error may be \n",
      "  underestimated.\n",
      "  integrated_flux, _ = quad(flux_attenuated, energy_bins_gev[i], energy_bins_gev[i+1])\n",
      " 82%|████████▏ | 124/151 [17:54<04:01,  8.95s/it]/home/cgalelli/miniconda3/envs/paleo/lib/python3.12/site-packages/scipy/interpolate/_interpolate.py:712: RuntimeWarning: invalid value encountered in divide\n",
      "  slope = (y_hi - y_lo) / (x_hi - x_lo)[:, None]\n",
      "/home/cgalelli/Documents/PrimusCode/mineral_utils.py:539: IntegrationWarning: The occurrence of roundoff error is detected, which prevents \n",
      "  the requested tolerance from being achieved.  The error may be \n",
      "  underestimated.\n",
      "  integrated_flux, _ = quad(flux_attenuated, energy_bins_gev[i], energy_bins_gev[i+1])\n",
      " 84%|████████▍ | 127/151 [18:00<01:53,  4.72s/it]"
     ]
    },
    {
     "name": "stdout",
     "output_type": "stream",
     "text": [
      "    - Saved processed data to Data/processed_recoils/Halite_muon_recoil_SN100_254.0kyr_10973mwe.npz\n",
      "    - Saved processed data to Data/processed_recoils/Halite_muon_recoil_SN100_256.0kyr_11059mwe.npz\n",
      "    - Saved processed data to Data/processed_recoils/Halite_muon_recoil_SN100_260.0kyr_11232mwe.npz\n",
      "    - Saved processed data to Data/processed_recoils/Halite_muon_recoil_SN100_258.0kyr_11146mwe.npz\n",
      "    - Saved processed data to Data/processed_recoils/Halite_muon_recoil_SN100_262.0kyr_11318mwe.npz\n"
     ]
    },
    {
     "name": "stderr",
     "output_type": "stream",
     "text": [
      " 85%|████████▍ | 128/151 [18:32<04:51, 12.67s/it]"
     ]
    },
    {
     "name": "stdout",
     "output_type": "stream",
     "text": [
      "    - Saved processed data to Data/processed_recoils/Halite_muon_recoil_SN100_264.0kyr_11405mwe.npz\n"
     ]
    },
    {
     "name": "stderr",
     "output_type": "stream",
     "text": [
      " 88%|████████▊ | 133/151 [18:52<01:31,  5.08s/it]"
     ]
    },
    {
     "name": "stdout",
     "output_type": "stream",
     "text": [
      "    - Saved processed data to Data/processed_recoils/Halite_muon_recoil_SN100_266.0kyr_11491mwe.npz\n",
      "    - Saved processed data to Data/processed_recoils/Halite_muon_recoil_SN100_268.0kyr_11578mwe.npz\n",
      "    - Saved processed data to Data/processed_recoils/Halite_muon_recoil_SN100_270.0kyr_11664mwe.npz\n",
      "    - Saved processed data to Data/processed_recoils/Halite_muon_recoil_SN100_274.0kyr_11837mwe.npz\n",
      "    - Saved processed data to Data/processed_recoils/Halite_muon_recoil_SN100_272.0kyr_11750mwe.npz\n"
     ]
    },
    {
     "name": "stderr",
     "output_type": "stream",
     "text": [
      " 89%|████████▊ | 134/151 [19:22<03:16, 11.54s/it]"
     ]
    },
    {
     "name": "stdout",
     "output_type": "stream",
     "text": [
      "    - Saved processed data to Data/processed_recoils/Halite_muon_recoil_SN100_276.0kyr_11923mwe.npz\n"
     ]
    },
    {
     "name": "stderr",
     "output_type": "stream",
     "text": [
      " 92%|█████████▏| 139/151 [19:43<01:00,  5.07s/it]"
     ]
    },
    {
     "name": "stdout",
     "output_type": "stream",
     "text": [
      "    - Saved processed data to Data/processed_recoils/Halite_muon_recoil_SN100_278.0kyr_12010mwe.npz\n",
      "    - Saved processed data to Data/processed_recoils/Halite_muon_recoil_SN100_280.0kyr_12096mwe.npz\n",
      "    - Saved processed data to Data/processed_recoils/Halite_muon_recoil_SN100_282.0kyr_12182mwe.npz\n",
      "    - Saved processed data to Data/processed_recoils/Halite_muon_recoil_SN100_286.0kyr_12355mwe.npz\n",
      "    - Saved processed data to Data/processed_recoils/Halite_muon_recoil_SN100_284.0kyr_12269mwe.npz\n"
     ]
    },
    {
     "name": "stderr",
     "output_type": "stream",
     "text": [
      " 93%|█████████▎| 140/151 [20:13<01:59, 10.90s/it]"
     ]
    },
    {
     "name": "stdout",
     "output_type": "stream",
     "text": [
      "    - Saved processed data to Data/processed_recoils/Halite_muon_recoil_SN100_288.0kyr_12442mwe.npz\n"
     ]
    },
    {
     "name": "stderr",
     "output_type": "stream",
     "text": [
      " 96%|█████████▌| 145/151 [20:35<00:32,  5.34s/it]"
     ]
    },
    {
     "name": "stdout",
     "output_type": "stream",
     "text": [
      "    - Saved processed data to Data/processed_recoils/Halite_muon_recoil_SN100_290.0kyr_12528mwe.npz\n",
      "    - Saved processed data to Data/processed_recoils/Halite_muon_recoil_SN100_292.0kyr_12614mwe.npz\n",
      "    - Saved processed data to Data/processed_recoils/Halite_muon_recoil_SN100_296.0kyr_12787mwe.npz\n",
      "    - Saved processed data to Data/processed_recoils/Halite_muon_recoil_SN100_294.0kyr_12701mwe.npz\n",
      "    - Saved processed data to Data/processed_recoils/Halite_muon_recoil_SN100_298.0kyr_12874mwe.npz\n"
     ]
    },
    {
     "name": "stderr",
     "output_type": "stream",
     "text": [
      " 97%|█████████▋| 146/151 [21:04<01:01, 12.23s/it]"
     ]
    },
    {
     "name": "stdout",
     "output_type": "stream",
     "text": [
      "    - Saved processed data to Data/processed_recoils/Halite_muon_recoil_SN100_300.0kyr_12960mwe.npz\n"
     ]
    },
    {
     "name": "stderr",
     "output_type": "stream",
     "text": [
      "100%|██████████| 151/151 [21:22<00:00,  8.49s/it]\n"
     ]
    }
   ],
   "source": [
    "total_muon_tracks_SN100 = [mineral.integrate_muon_signal_spectrum_parallel(\n",
    "    x_bins, \n",
    "    scenario_config=scenario_config_SN100, \n",
    "    energy_bins_gev=CONFIG[\"geant4_energy_bins_gev\"], \n",
    "    exposure_window_kyr=exposure_window_kyr, \n",
    "    sample_mass_kg = sample_mass_kg,\n",
    "    deposition_rate_m_kyr = deposition,\n",
    "    overburden_density_g_cm3 = continuous_overburden_density_g_cm3,\n",
    "    nsteps=150,\n",
    ") for deposition in deposition_rate_m_kyr]"
   ]
  },
  {
   "cell_type": "code",
   "execution_count": 28,
   "id": "425fd0b3",
   "metadata": {},
   "outputs": [
    {
     "name": "stderr",
     "output_type": "stream",
     "text": [
      "100%|██████████| 6/6 [00:20<00:00,  3.37s/it]\n",
      "  0%|          | 0/6 [00:00<?, ?it/s]"
     ]
    },
    {
     "name": "stdout",
     "output_type": "stream",
     "text": [
      "    - Saved processed data to Data/processed_recoils/Halite_muon_recoil_simple_0.0kyr_14460mwe.npz\n",
      "    - Saved processed data to Data/processed_recoils/Halite_muon_recoil_simple_1060.0kyr_14460mwe.npz\n",
      "    - Saved processed data to Data/processed_recoils/Halite_muon_recoil_simple_5300.0kyr_14460mwe.npz\n",
      "    - Saved processed data to Data/processed_recoils/Halite_muon_recoil_simple_3180.0kyr_14460mwe.npz\n",
      "    - Saved processed data to Data/processed_recoils/Halite_muon_recoil_simple_4240.0kyr_14460mwe.npz\n",
      "    - Saved processed data to Data/processed_recoils/Halite_muon_recoil_simple_2120.0kyr_14460mwe.npz\n"
     ]
    },
    {
     "name": "stderr",
     "output_type": "stream",
     "text": [
      "100%|██████████| 6/6 [00:51<00:00,  8.55s/it]\n"
     ]
    }
   ],
   "source": [
    "post_tracks = [mineral.integrate_muon_signal_spectrum_parallel(\n",
    "    x_bins,\n",
    "    scenario_config=scenario_config_simple,\n",
    "    energy_bins_gev=CONFIG[\"geant4_energy_bins_gev\"],\n",
    "    exposure_window_kyr = total_exposure_kyr - exposure_window_kyr,\n",
    "    sample_mass_kg = sample_mass_kg,\n",
    "    initial_depth = event_overburden_depth + deposition * exposure_window_kyr * continuous_overburden_density_g_cm3,\n",
    "    nsteps=5,\n",
    ") for deposition in deposition_rate_m_kyr]"
   ]
  },
  {
   "cell_type": "code",
   "execution_count": 36,
   "id": "adc86815",
   "metadata": {},
   "outputs": [
    {
     "data": {
      "image/png": "[encoded data removed]",
      "text/plain": [
       "<Figure size 700x500 with 1 Axes>"
      ]
     },
     "metadata": {},
     "output_type": "display_data"
    }
   ],
   "source": [
    "fig, ax = plt.subplots(figsize=[7, 5])\n",
    "\n",
    "i = 1\n",
    "\n",
    "ax.step(x_mids/1000, np.array(total_fission_tracks)/(1e3*sample_mass_kg), color='C3', linestyle='dashed', linewidth=1., label=\"Fission tracks\", where='mid')\n",
    "ax.step(x_mids/1000, np.array(total_neutron_tracks)/(1e3*sample_mass_kg), color='C5', linestyle='dashed', linewidth=1., label=\"Neutron-induced tracks\", where='mid')\n",
    "ax.step(x_mids/1000, np.array(total_muon_tracks_simple[i])/(1e3*sample_mass_kg), color='C0', label=\"Muon-induced tracks: Simple Scenario\", linestyle='-', linewidth=1., where='mid')\n",
    "ax.step(x_mids/1000, np.array(total_muon_tracks_SN20[i])/(1e3*sample_mass_kg), color='C1', label=\"Muon-induced tracks: SN20 Scenario\", linestyle='-', linewidth=1., where='mid')\n",
    "ax.step(x_mids/1000, np.array(total_muon_tracks_SN100[i])/(1e3*sample_mass_kg), color='C2', label=\"Muon-induced tracks: SN100 Scenario\", linestyle='-', linewidth=1., where='mid')\n",
    "ax.step(x_mids/1000, np.array(post_tracks[i])/(1e3*sample_mass_kg), color='C4', label=\"Muon-induced tracks: with overburden\", linestyle='-', linewidth=1., where='mid')\n",
    "\n",
    "#ax.set_title(f\"Track density distribution in {mineral_name} in the slow deposition scenario\")\n",
    "ax.set_xlabel(r\"Track Length ($\\mu$m)\")\n",
    "ax.set_ylabel(r\"Density of Tracks (g$^{-1}$)\")\n",
    "ax.set_yscale(\"log\")\n",
    "ax.set_ylim(1e-2, 1e8)\n",
    "ax.set_xlim(0, 50)\n",
    "ax.legend(fontsize='small')\n",
    "plt.savefig(\"Plots/MSC_track_number_per_gram.png\", dpi=500)\n",
    "plt.show()"
   ]
  },
  {
   "cell_type": "code",
   "execution_count": 38,
   "id": "69bc5738",
   "metadata": {},
   "outputs": [
    {
     "data": {
      "image/png": "[encoded data removed]",
      "text/plain": [
       "<Figure size 700x500 with 1 Axes>"
      ]
     },
     "metadata": {},
     "output_type": "display_data"
    }
   ],
   "source": [
    "fig, ax = plt.subplots(figsize=[7, 5])\n",
    "\n",
    "ax.step(x_mids/1000, np.array(total_fission_tracks), color='C3', linestyle='dashed', linewidth=1., label=\"Fission tracks\", where='mid')\n",
    "ax.step(x_mids/1000, np.array(total_neutron_tracks), color='C5', linestyle='dashed', linewidth=1., label=\"Neutron-induced tracks\", where='mid')\n",
    "\n",
    "for i in range(len(deposition_rate_m_kyr)):\n",
    "    ax.plot(x_mids/1000, np.array(total_muon_tracks_simple[i]), color='C0', linestyle='-', linewidth=1.)\n",
    "    ax.plot(x_mids/1000, np.array(total_muon_tracks_SN20[i]), color='C1', linestyle='-', linewidth=1.)\n",
    "    ax.plot(x_mids/1000, np.array(total_muon_tracks_SN100[i]), color='C2', linestyle='-', linewidth=1.)\n",
    "    ax.plot(x_mids/1000, np.array(post_tracks[i]), color='C4', linestyle='-', linewidth=1.)\n",
    "\n",
    "ax.fill_between(x_mids/1000, total_muon_tracks_simple[0], total_muon_tracks_simple[-1], color='C0', alpha=0.2, label='Simple Scenario Range')\n",
    "ax.fill_between(x_mids/1000, total_muon_tracks_SN20[0], total_muon_tracks_SN20[-1], color='C1', alpha=0.2, label='SN20 Scenario Range')\n",
    "ax.fill_between(x_mids/1000, total_muon_tracks_SN100[0], total_muon_tracks_SN100[-1], color='C2', alpha=0.2, label='SN100 Scenario Range')\n",
    "ax.fill_between(x_mids/1000, post_tracks[0], post_tracks[-1], color='C4', alpha=0.2, label='With overburden Range')\n",
    "\n",
    "#ax.set_title(f\"Track density distribution in {mineral_name} in the deposition rate range\")\n",
    "ax.set_xlabel(r\"Track Length ($\\mu$m)\")\n",
    "ax.set_ylabel(r\"Number of Tracks\")\n",
    "ax.set_yscale(\"log\")\n",
    "ax.set_ylim(1e-5, 1e8)\n",
    "ax.set_xlim(0, 50)\n",
    "ax.legend(fontsize='small')\n",
    "plt.savefig(\"Plots/MSC_track_number_depositions.png\", dpi=500)\n",
    "plt.show()"
   ]
  },
  {
   "cell_type": "code",
   "execution_count": 31,
   "id": "6417e2a9",
   "metadata": {},
   "outputs": [
    {
     "name": "stdout",
     "output_type": "stream",
     "text": [
      "Calculating spontaneous fission background...\n",
      "Calculating radiogenic neutron background...\n"
     ]
    }
   ],
   "source": [
    "filepath = './Data/processed_recoils/Halite_muon_recoil_simple_0.0kyr_0mwe.npz'\n",
    "recoil_data = np.load(filepath)\n",
    "\n",
    "drdx_muon = mineral._convert_recoil_to_track_spectrum(x_bins=x_bins, recoil_data=recoil_data, energy_bins_gev=CONFIG[\"geant4_energy_bins_gev\"])\n",
    "drdx_fission = mineral.calculate_fission_spectrum(x_bins)\n",
    "drdx_neutron = mineral.calculate_neutron_spectrum(x_bins)\n",
    "\n",
    "drdx_org = np.zeros_like(drdx_muon['total'])\n",
    "drdx_result = np.zeros_like(drdx_muon['total'])\n",
    "for name in recoil_data.files[1:]:\n",
    "    if name != 'total' and name != 'Er_bins':\n",
    "        if name in ['Na', 'Cl']:\n",
    "            drdx_org += drdx_muon[name]\n",
    "        else: drdx_result += drdx_muon[name]"
   ]
  },
  {
   "cell_type": "code",
   "execution_count": 32,
   "id": "370d316e",
   "metadata": {},
   "outputs": [],
   "source": [
    "filepath_SN20 = './Data/processed_recoils/Halite_muon_recoil_SN20_0.0kyr_0mwe.npz'\n",
    "recoil_data_SN20 = np.load(filepath_SN20)\n",
    "\n",
    "drdx_muon_SN20 = mineral._convert_recoil_to_track_spectrum(x_bins=x_bins, recoil_data=recoil_data_SN20, energy_bins_gev=CONFIG[\"geant4_energy_bins_gev\"])\n",
    "\n",
    "filepath_SN100 = './Data/processed_recoils/Halite_muon_recoil_SN100_0.0kyr_0mwe.npz'\n",
    "recoil_data_SN100 = np.load(filepath_SN100)\n",
    "\n",
    "drdx_muon_SN100 = mineral._convert_recoil_to_track_spectrum(x_bins=x_bins, recoil_data=recoil_data_SN100, energy_bins_gev=CONFIG[\"geant4_energy_bins_gev\"])\n",
    "\n",
    "filepath_over = './Data/processed_recoils/Halite_muon_recoil_simple_0.0kyr_4740mwe.npz'\n",
    "recoil_data_over = np.load(filepath_over)\n",
    "\n",
    "drdx_muon_over = mineral._convert_recoil_to_track_spectrum(x_bins=x_bins, recoil_data=recoil_data_over, energy_bins_gev=CONFIG[\"geant4_energy_bins_gev\"])\n"
   ]
  },
  {
   "cell_type": "code",
   "execution_count": 33,
   "id": "a6fa9563",
   "metadata": {},
   "outputs": [
    {
     "data": {
      "image/png": "[encoded data removed]",
      "text/plain": [
       "<Figure size 700x500 with 1 Axes>"
      ]
     },
     "metadata": {},
     "output_type": "display_data"
    }
   ],
   "source": [
    "fig, ax = plt.subplots(figsize=[7, 5])\n",
    "\n",
    "ax.plot(x_mids, drdx_muon['total'], label='Total muon-induced')\n",
    "ax.plot(x_mids, drdx_muon_SN20['total'], linestyle='-', linewidth=1., label='Total muon-induced at peak SN20')\n",
    "ax.plot(x_mids, drdx_muon_SN100['total'], linestyle='-', linewidth=1., label='Total muon-induced at peak SN100')\n",
    "\n",
    "ax.plot(x_mids, drdx_muon_over['total'], linestyle='--', linewidth=1., label='Total muon-induced with overburden')\n",
    "\n",
    "ax.plot(x_mids, drdx_org, linestyle='-.', linewidth=0.6, color='C5', label='Target nuclides only')\n",
    "ax.plot(x_mids, drdx_result, linestyle='-.', linewidth=0.6, color='C6', label='Nuclides from spallation')\n",
    "ax.plot(x_mids, drdx_neutron, linestyle='-', color = 'C4',label='Neutron-induced')\n",
    "ax.plot(x_mids, drdx_fission, linestyle='-', color = 'C2',label='Fission-induced')\n",
    "\n",
    "ax.set_yscale(\"log\")\n",
    "ax.set_xscale(\"log\")\n",
    "ax.set_xlabel(r\"Track Length (nm)\")\n",
    "ax.set_ylabel(r\"dR/dx (nm$^{-1}$ kg$^{-1}$ Myr$^{-1}$)\")\n",
    "#ax.set_title(f\"Track rate spectrum in {mineral_name}\")\n",
    "ax.set_ylim(1e-2, 3e10)\n",
    "ax.legend(fontsize='small', loc='upper right')\n",
    "plt.savefig(\"Plots/MSC_drdx.png\", dpi=500)\n",
    "plt.show()"
   ]
  },
  {
   "cell_type": "code",
   "execution_count": null,
   "id": "1f14077a",
   "metadata": {},
   "outputs": [],
   "source": []
  }
 ],
 "metadata": {
  "kernelspec": {
   "display_name": "paleo",
   "language": "python",
   "name": "python3"
  },
  "language_info": {
   "codemirror_mode": {
    "name": "ipython",
    "version": 3
   },
   "file_extension": ".py",
   "mimetype": "text/x-python",
   "name": "python",
   "nbconvert_exporter": "python",
   "pygments_lexer": "ipython3",
   "version": "3.12.11"
  }
 },
 "nbformat": 4,
 "nbformat_minor": 5
}
