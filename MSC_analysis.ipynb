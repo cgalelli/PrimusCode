{
 "cells": [
  {
   "cell_type": "markdown",
   "id": "5fb085f4-46c1-4e1f-af14-7397dfba0bff",
   "metadata": {},
   "source": [
    "# Paleo-Detector Analysis Pipeline\n",
    "\n",
    "This notebook provides a complete, end-to-end workflow for the phenomenological analysis of paleo-detectors. It is designed to calculate the expected nuclear recoil track spectra from both external cosmic ray muon signals and various internal/atmospheric backgrounds.\n",
    "\n",
    "The pipeline is built around the *mineral_utils.py* module, which contains the *Paleodetector* class. This class acts as the physics engine, handling all low-level data processing and calculations. The notebook serves as a high-level interface to configure and orchestrate the analysis.\n",
    "\n",
    "### Workflow Overview:\n",
    "\n",
    "**1. Configuration:** All analysis parameters are defined in the configuration cells. This includes selecting the mineral from a library, defining the geological history of the sample (age, exposure time, deposition rate), and setting up the astrophysical scenarios for the cosmic ray flux.\n",
    "\n",
    "**2. Initialization:** A Paleodetector object is created. This object automatically loads and caches all necessary input data, such as SRIM tables for ion ranges and pre-computed Geant4 results for muon interactions.\n",
    "\n",
    "**3. Background Calculation:** The notebook calculates the track spectra for the primary background sources:\n",
    "\n",
    "- Spontaneous Fission: Tracks from the spontaneous fission of Uranium-238 impurities within the mineral.\n",
    "\n",
    "- Radiogenic Neutrons: Tracks from neutrons produced by (α,n) reactions in the surrounding rock.\n",
    "\n",
    "- Neutrinos: Tracks from coherent elastic neutrino-nucleus scattering.\n",
    "\n",
    "**7. Signal Calculation:** For each defined astrophysical scenario, the notebook calculates the track spectrum from cosmic ray muons. This core step includes a sophisticated model for a time-variant cosmic ray flux and the continuous deposition of overburden, which attenuates the signal over the exposure window. The time integration is performed in parallel for efficiency.\n",
    "\n",
    "**8. Analysis & Plotting:** The final signal and background components are combined to produce the summary plots, showing the total expected number of tracks as a function of track length.\n"
   ]
  },
  {
   "cell_type": "code",
   "execution_count": 18,
   "id": "721410a0-920a-4d56-b549-635d58f015de",
   "metadata": {},
   "outputs": [
    {
     "name": "stdout",
     "output_type": "stream",
     "text": [
      "Libraries imported successfully.\n"
     ]
    }
   ],
   "source": [
    "import yaml\n",
    "import numpy as np\n",
    "from matplotlib import pyplot as plt\n",
    "\n",
    "# --- Custom Utility Module ---\n",
    "from mineral_utils import Paleodetector\n",
    "\n",
    "print(\"Libraries imported successfully.\")"
   ]
  },
  {
   "cell_type": "code",
   "execution_count": 19,
   "id": "43f41946",
   "metadata": {},
   "outputs": [],
   "source": [
    "mineral_name =  \"Halite\"  # Must match a key in MINERAL_LIBRARY\n",
    "\n",
    "sample_mass_kg = 0.0005       # Sample mass in kg (e.g., 0.01 for 10g)\n",
    "total_age_myr = 5.6\n",
    "total_exposure_kyr = 5600.         # Total age of the sample in millions of years\n",
    "exposure_window_kyr = 300.  # Duration of CR signal exposure in kyr\n",
    "\n",
    "# --- Continuous Deposition Model Parameters ---\n",
    "deposition_rate_m_kyr = np.array([2.5, 20.])\n",
    "continuous_overburden_density_g_cm3 = 2.16\n",
    "event_overburden_density_g_cm3 = 1.\n",
    "event_overburden_depth = 1500.\n",
    "initial_depth_m =  0.\n",
    "\n",
    "\n",
    "x_bins = np.linspace(0, 100000, 100)        #Track length bins in nm\n",
    "x_mids = x_bins[:-1] + np.diff(x_bins) / 2"
   ]
  },
  {
   "cell_type": "code",
   "execution_count": 20,
   "id": "940ab726",
   "metadata": {},
   "outputs": [],
   "source": [
    "CONFIG = yaml.safe_load(open('Data/basic_config.yaml', 'r'))\n",
    "MINERAL_LIBRARY = yaml.safe_load(open('Data/mineral_library.yaml', 'r'))"
   ]
  },
  {
   "cell_type": "code",
   "execution_count": 21,
   "id": "d0aefb77",
   "metadata": {},
   "outputs": [],
   "source": [
    "scenario_config_simple = {\n",
    "    'name': 'simple',\n",
    "    'event_fluxes': {\n",
    "        0.: ('H3a', 'H3a'),\n",
    "        300.: ('H3a', 'H3a'),\n",
    "    }\n",
    "}\n",
    "\n",
    "scenario_config_SN20 = {\n",
    "    'name': 'SN20',\n",
    "    'event_fluxes': {\n",
    "        0.: ('SN20pc_2kyr', 'SN20pc_2kyr'),            \n",
    "        10.: ('SN20pc_12kyr', 'SN20pc_12kyr'),\n",
    "        20.: ('SN20pc_22kyr', 'SN20pc_22kyr'),\n",
    "        30.: ('SN20pc_32kyr', 'SN20pc_32kyr'),\n",
    "        40.: ('SN20pc_42kyr', 'SN20pc_42kyr'),\n",
    "        50.: ('SN20pc_52kyr', 'SN20pc_52kyr'),\n",
    "        60.: ('SN20pc_62kyr', 'SN20pc_62kyr'),\n",
    "        70.: ('H3a', 'H3a'),\n",
    "        300.: ('H3a', 'H3a'),         \n",
    "    }\n",
    "}\n",
    "\n",
    "scenario_config_SN100 = {\n",
    "    'name': 'SN100',\n",
    "    'event_fluxes': {\n",
    "        0.: ('SN100pc_2kyr', 'SN100pc_2kyr'),            \n",
    "        10.: ('SN100pc_12kyr', 'SN100pc_12kyr'),\n",
    "        20.: ('SN100pc_22kyr', 'SN100pc_22kyr'),\n",
    "        30.: ('SN100pc_32kyr', 'SN100pc_32kyr'),\n",
    "        40.: ('SN100pc_42kyr', 'SN100pc_42kyr'),\n",
    "        50.: ('H3a', 'H3a'),\n",
    "        300.: ('H3a', 'H3a'),   \n",
    "    }\n",
    "}"
   ]
  },
  {
   "cell_type": "code",
   "execution_count": 22,
   "id": "8bce0ee2-6da1-4a3c-99d2-859f42a804c8",
   "metadata": {},
   "outputs": [
    {
     "name": "stdout",
     "output_type": "stream",
     "text": [
      "Initialized Paleodetector: Halite\n"
     ]
    }
   ],
   "source": [
    "# --- Setup & Verification ---\n",
    "mineral_config = MINERAL_LIBRARY.get(mineral_name)\n",
    "if not mineral_config:\n",
    "    raise ValueError(f\"Mineral '{mineral_name}' not found in MINERAL_LIBRARY.\")\n",
    "\n",
    "mineral = Paleodetector(mineral_config)"
   ]
  },
  {
   "cell_type": "markdown",
   "id": "a063d074",
   "metadata": {},
   "source": [
    "## Calculation of Track Spectra\n",
    "\n",
    "With the Paleodetector object initialized and all necessary data loaded, we can now proceed with the core physics calculations. The following cells will compute the differential track rate (dR/dx) for each relevant physical process and then integrate these rates over the sample's lifetime to find the total expected number of tracks in each track length bin.\n",
    "\n",
    "### Calculation Steps:\n",
    "\n",
    "**1. Backgrounds:** We first calculate the spectra for the steady-state backgrounds that accumulate over the entire geological age of the sample. These include spontaneous fission, radiogenic neutrons, and atmospheric neutrinos.\n",
    "\n",
    "**2. Muon Signal:** Next, we compute the primary signal from cosmic ray muons. The integrate_muon_signal_spectrum_parallel function is used for this. It performs a numerical integration over the specified exposure_window_kyr, accounting for two key time-dependent effects at each step:\n",
    "\n",
    "- The evolution of the cosmic ray flux, which is interpolated from the files defined in the scenario_config.\n",
    "\n",
    "- The increase in shielding due to the continuous deposition_rate_m_kyr.\n",
    "\n",
    "**3. Final Plot:** Finally, all calculated track components (signals and backgrounds) are summed and plotted to visualize the expected final track spectrum in the detector."
   ]
  },
  {
   "cell_type": "code",
   "execution_count": null,
   "id": "a53bc449-3ea0-4759-b30f-4b592e5a5c25",
   "metadata": {},
   "outputs": [
    {
     "name": "stdout",
     "output_type": "stream",
     "text": [
      "Calculating spontaneous fission background...\n"
     ]
    }
   ],
   "source": [
    "total_fission_tracks = mineral.integrate_fission_spectrum(x_bins, total_age_myr, sample_mass_kg)"
   ]
  },
  {
   "cell_type": "code",
   "execution_count": null,
   "id": "51f7bd24",
   "metadata": {},
   "outputs": [],
   "source": [
    "total_neutron_tracks = mineral.integrate_neutron_spectrum(x_bins, total_age_myr, sample_mass_kg)"
   ]
  },
  {
   "cell_type": "code",
   "execution_count": null,
   "id": "175e1f0e",
   "metadata": {},
   "outputs": [],
   "source": [
    "total_muon_tracks_simple = [mineral.integrate_muon_signal_spectrum_parallel(\n",
    "    x_bins, \n",
    "    scenario_config=scenario_config_simple, \n",
    "    energy_bins_gev=CONFIG[\"geant4_energy_bins_gev\"], \n",
    "    exposure_window_kyr=exposure_window_kyr, \n",
    "    sample_mass_kg = sample_mass_kg,\n",
    "    deposition_rate_m_kyr = deposition,\n",
    "    overburden_density_g_cm3 = continuous_overburden_density_g_cm3,\n",
    "    nsteps=20,\n",
    ") for deposition in deposition_rate_m_kyr]"
   ]
  },
  {
   "cell_type": "code",
   "execution_count": null,
   "id": "08fa7fd0",
   "metadata": {},
   "outputs": [],
   "source": [
    "total_muon_tracks_SN20 = [mineral.integrate_muon_signal_spectrum_parallel(\n",
    "    x_bins, \n",
    "    scenario_config=scenario_config_SN20, \n",
    "    energy_bins_gev=CONFIG[\"geant4_energy_bins_gev\"], \n",
    "    exposure_window_kyr=exposure_window_kyr, \n",
    "    sample_mass_kg = sample_mass_kg,\n",
    "    deposition_rate_m_kyr=deposition,\n",
    "    overburden_density_g_cm3=continuous_overburden_density_g_cm3,\n",
    "    nsteps=150,\n",
    ") for deposition in deposition_rate_m_kyr]"
   ]
  },
  {
   "cell_type": "code",
   "execution_count": null,
   "id": "a08413e7",
   "metadata": {},
   "outputs": [],
   "source": [
    "total_muon_tracks_SN100 = [mineral.integrate_muon_signal_spectrum_parallel(\n",
    "    x_bins, \n",
    "    scenario_config=scenario_config_SN100, \n",
    "    energy_bins_gev=CONFIG[\"geant4_energy_bins_gev\"], \n",
    "    exposure_window_kyr=exposure_window_kyr, \n",
    "    sample_mass_kg = sample_mass_kg,\n",
    "    deposition_rate_m_kyr = deposition,\n",
    "    overburden_density_g_cm3 = continuous_overburden_density_g_cm3,\n",
    "    nsteps=150,\n",
    ") for deposition in deposition_rate_m_kyr]"
   ]
  },
  {
   "cell_type": "code",
   "execution_count": null,
   "id": "425fd0b3",
   "metadata": {},
   "outputs": [],
   "source": [
    "post_tracks = [mineral.integrate_muon_signal_spectrum_parallel(\n",
    "    x_bins,\n",
    "    scenario_config=scenario_config_simple,\n",
    "    energy_bins_gev=CONFIG[\"geant4_energy_bins_gev\"],\n",
    "    exposure_window_kyr = total_exposure_kyr - exposure_window_kyr,\n",
    "    sample_mass_kg = sample_mass_kg,\n",
    "    initial_depth = event_overburden_depth + deposition * exposure_window_kyr * continuous_overburden_density_g_cm3,\n",
    "    nsteps=5,\n",
    ") for deposition in deposition_rate_m_kyr]"
   ]
  },
  {
   "cell_type": "code",
   "execution_count": null,
   "id": "adc86815",
   "metadata": {},
   "outputs": [],
   "source": [
    "fig, ax = plt.subplots(figsize=[7, 5])\n",
    "\n",
    "i = 1\n",
    "\n",
    "ax.step(x_mids/1000, np.array(total_fission_tracks)/(1e3*sample_mass_kg), color='C3', linestyle='dashed', linewidth=1., label=\"Fission tracks\", where='mid')\n",
    "ax.step(x_mids/1000, np.array(total_neutron_tracks)/(1e3*sample_mass_kg), color='C5', linestyle='dashed', linewidth=1., label=\"Neutron-induced tracks\", where='mid')\n",
    "ax.step(x_mids/1000, np.array(total_muon_tracks_simple[i])/(1e3*sample_mass_kg), color='C0', label=\"Muon-induced tracks: Simple Scenario\", linestyle='-', linewidth=1., where='mid')\n",
    "ax.step(x_mids/1000, np.array(total_muon_tracks_SN20[i])/(1e3*sample_mass_kg), color='C1', label=\"Muon-induced tracks: SN20 Scenario\", linestyle='-', linewidth=1., where='mid')\n",
    "ax.step(x_mids/1000, np.array(total_muon_tracks_SN100[i])/(1e3*sample_mass_kg), color='C2', label=\"Muon-induced tracks: SN100 Scenario\", linestyle='-', linewidth=1., where='mid')\n",
    "ax.step(x_mids/1000, np.array(post_tracks[i])/(1e3*sample_mass_kg), color='C4', label=\"Muon-induced tracks: with overburden\", linestyle='-', linewidth=1., where='mid')\n",
    "\n",
    "ax.set_title(f\"Track density distribution in {mineral_name} in the slow deposition scenario\")\n",
    "ax.set_xlabel(r\"Track Length ($\\mu$m)\")\n",
    "ax.set_ylabel(r\"Density of Tracks (g$^{-1}$)\")\n",
    "ax.set_yscale(\"log\")\n",
    "ax.set_ylim(1e-2, 1e8)\n",
    "ax.set_xlim(0, 50)\n",
    "ax.legend(fontsize='small')\n",
    "plt.savefig(\"Plots/MSC_track_number_per_gram.png\", dpi=500)\n",
    "plt.show()"
   ]
  },
  {
   "cell_type": "code",
   "execution_count": null,
   "id": "69bc5738",
   "metadata": {},
   "outputs": [],
   "source": [
    "fig, ax = plt.subplots(figsize=[7, 5])\n",
    "\n",
    "ax.step(x_mids/1000, np.array(total_fission_tracks), color='C3', linestyle='dashed', linewidth=1., label=\"Fission tracks\", where='mid')\n",
    "ax.step(x_mids/1000, np.array(total_neutron_tracks), color='C5', linestyle='dashed', linewidth=1., label=\"Neutron-induced tracks\", where='mid')\n",
    "\n",
    "for i in range(len(deposition_rate_m_kyr)):\n",
    "    ax.plot(x_mids/1000, np.array(total_muon_tracks_simple[i]), color='C0', label=f\"Muon-induced tracks: Simple Scenario, deposition rate {deposition_rate_m_kyr[i]}\", linestyle='-', linewidth=1.)\n",
    "    ax.plot(x_mids/1000, np.array(total_muon_tracks_SN20[i]), color='C1', label=f\"Muon-induced tracks: SN20 Scenario, deposition rate {deposition_rate_m_kyr[i]}\", linestyle='-', linewidth=1.)\n",
    "    ax.plot(x_mids/1000, np.array(total_muon_tracks_SN100[i]), color='C2', label=f\"Muon-induced tracks: SN100 Scenario, deposition rate {deposition_rate_m_kyr[i]}\", linestyle='-', linewidth=1.)\n",
    "    ax.plot(x_mids/1000, np.array(post_tracks[i]), color='C4', label=f\"Muon-induced tracks: with overburden, deposition rate {deposition_rate_m_kyr[i]}\", linestyle='-', linewidth=1.)\n",
    "\n",
    "ax.fill_between(x_mids/1000, total_muon_tracks_simple[0], total_muon_tracks_simple[-1], color='C0', alpha=0.2, label='Simple Scenario Range')\n",
    "ax.fill_between(x_mids/1000, total_muon_tracks_SN20[0], total_muon_tracks_SN20[-1], color='C0', alpha=0.2, label='SN20 Scenario Range')\n",
    "ax.fill_between(x_mids/1000, total_muon_tracks_SN100[0], total_muon_tracks_SN100[-1], color='C0', alpha=0.2, label='SN100 Scenario Range')\n",
    "ax.fill_between(x_mids/1000, post_tracks[0], post_tracks[-1], color='C4', alpha=0.2, label='Post-Flood Scenario Range')\n",
    "\n",
    "ax.set_title(f\"Track density distribution in {mineral_name} in the two deposition scenarios\")\n",
    "ax.set_xlabel(r\"Track Length ($\\mu$m)\")\n",
    "ax.set_ylabel(r\"Density of Tracks (g$^{-1}$)\")\n",
    "ax.set_yscale(\"log\")\n",
    "ax.set_ylim(1e-5, 1e8)\n",
    "ax.set_xlim(0, 50)\n",
    "ax.legend(fontsize='small')\n",
    "plt.savefig(\"Plots/MSC_track_number_depositions.png\", dpi=500)\n",
    "plt.show()"
   ]
  },
  {
   "cell_type": "code",
   "execution_count": null,
   "id": "6417e2a9",
   "metadata": {},
   "outputs": [],
   "source": [
    "filepath = './Data/processed_recoils/Halite_muon_recoil_simple_0.0kyr_0mwe.npz'\n",
    "recoil_data = np.load(filepath)\n",
    "\n",
    "drdx_muon = mineral._convert_recoil_to_track_spectrum(x_bins=x_bins, recoil_data=recoil_data, energy_bins_gev=CONFIG[\"geant4_energy_bins_gev\"])\n",
    "drdx_fission = mineral.calculate_fission_spectrum(x_bins)\n",
    "drdx_neutron = mineral.calculate_neutron_spectrum(x_bins)\n",
    "\n",
    "drdx_org = np.zeros_like(drdx_muon['total'])\n",
    "drdx_result = np.zeros_like(drdx_muon['total'])\n",
    "for name in recoil_data.files[1:]:\n",
    "    if name != 'total' and name != 'Er_bins':\n",
    "        if name in ['Na', 'Cl']:\n",
    "            drdx_org += drdx_muon[name]\n",
    "        else: drdx_result += drdx_muon[name]"
   ]
  },
  {
   "cell_type": "code",
   "execution_count": null,
   "id": "370d316e",
   "metadata": {},
   "outputs": [],
   "source": [
    "filepath_SN20 = './Data/processed_recoils/Halite_muon_recoil_SN20_0.0kyr_0mwe.npz'\n",
    "recoil_data_SN20 = np.load(filepath_SN20)\n",
    "\n",
    "drdx_muon_SN20 = mineral._convert_recoil_to_track_spectrum(x_bins=x_bins, recoil_data=recoil_data_SN20, energy_bins_gev=CONFIG[\"geant4_energy_bins_gev\"])\n",
    "\n",
    "filepath_SN100 = './Data/processed_recoils/Halite_muon_recoil_SN100_0.0kyr_0mwe.npz'\n",
    "recoil_data_SN100 = np.load(filepath_SN100)\n",
    "\n",
    "drdx_muon_SN100 = mineral._convert_recoil_to_track_spectrum(x_bins=x_bins, recoil_data=recoil_data_SN100, energy_bins_gev=CONFIG[\"geant4_energy_bins_gev\"])\n",
    "\n",
    "filepath_over = './Data/processed_recoils/Halite_muon_recoil_simple_0.0kyr_4740mwe.npz'\n",
    "recoil_data_over = np.load(filepath_over)\n",
    "\n",
    "drdx_muon_over = mineral._convert_recoil_to_track_spectrum(x_bins=x_bins, recoil_data=recoil_data_over, energy_bins_gev=CONFIG[\"geant4_energy_bins_gev\"])\n"
   ]
  },
  {
   "cell_type": "code",
   "execution_count": null,
   "id": "a6fa9563",
   "metadata": {},
   "outputs": [],
   "source": [
    "fig, ax = plt.subplots(figsize=[7, 5])\n",
    "\n",
    "ax.plot(x_mids, drdx_muon['total'], label='Total muon-induced')\n",
    "ax.plot(x_mids, drdx_muon_SN20['total'], linestyle='-', linewidth=1., label='Total muon-induced at peak SN20')\n",
    "ax.plot(x_mids, drdx_muon_SN100['total'], linestyle='-', linewidth=1., label='Total muon-induced at peak SN100')\n",
    "\n",
    "ax.plot(x_mids, drdx_muon_over['total'], linestyle='--', linewidth=1., label='Total muon-induced with overburden')\n",
    "\n",
    "ax.plot(x_mids, drdx_org, linestyle='-.', linewidth=0.6, color='C5', label='Target nuclides only')\n",
    "ax.plot(x_mids, drdx_result, linestyle='-.', linewidth=0.6, color='C6', label='Nuclides from spallation')\n",
    "ax.plot(x_mids, drdx_neutron, linestyle='-', color = 'C4',label='Neutron-induced')\n",
    "ax.plot(x_mids, drdx_fission, linestyle='-', color = 'C2',label='Fission-induced')\n",
    "\n",
    "ax.set_yscale(\"log\")\n",
    "ax.set_xscale(\"log\")\n",
    "ax.set_xlabel(r\"Track Length (nm)\")\n",
    "ax.set_ylabel(r\"dR/dx (nm$^{-1}$ kg$^{-1}$ Myr$^{-1}$)\")\n",
    "#ax.set_title(f\"Track rate spectrum in {mineral_name}\")\n",
    "ax.set_ylim(1e-2, 3e10)\n",
    "ax.legend(fontsize='small', loc='upper right')\n",
    "plt.savefig(\"Plots/MSC_drdx.png\", dpi=500)\n",
    "plt.show()"
   ]
  },
  {
   "cell_type": "code",
   "execution_count": null,
   "id": "1f14077a",
   "metadata": {},
   "outputs": [],
   "source": []
  }
 ],
 "metadata": {
  "kernelspec": {
   "display_name": "paleo",
   "language": "python",
   "name": "python3"
  },
  "language_info": {
   "codemirror_mode": {
    "name": "ipython",
    "version": 3
   },
   "file_extension": ".py",
   "mimetype": "text/x-python",
   "name": "python",
   "nbconvert_exporter": "python",
   "pygments_lexer": "ipython3",
   "version": "3.12.11"
  }
 },
 "nbformat": 4,
 "nbformat_minor": 5
}
